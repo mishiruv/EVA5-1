{
  "nbformat": 4,
  "nbformat_minor": 0,
  "metadata": {
    "colab": {
      "name": "EVA5-PyTorch101.ipynb",
      "provenance": [],
      "collapsed_sections": []
    },
    "kernelspec": {
      "name": "python3",
      "display_name": "Python 3"
    },
    "accelerator": "GPU"
  },
  "cells": [
    {
      "cell_type": "markdown",
      "metadata": {
        "id": "_kYM3ylzYo1Q",
        "colab_type": "text"
      },
      "source": [
        "![PyTorch](https://devblogs.nvidia.com/wp-content/uploads/2017/04/pytorch-logo-dark.png)\n",
        "\n",
        "An open source machine learning framework that accelerates the path from research prototyping to production deployment.\n",
        "\n"
      ]
    },
    {
      "cell_type": "markdown",
      "metadata": {
        "id": "WcVqSTrWY6oz",
        "colab_type": "text"
      },
      "source": [
        "# Tensor - Pytorch's core data structure\n",
        "\n",
        "In Python we can create lists, lists of lists, lists of lists and so on. In NumPy there is a `numpy.ndarray` which represents `n`- dimensional array. In math there is a special name for the generalization of vectors and matrices to a higher dimensional space - a tensor\n",
        "\n",
        "Tensor is an entity with a defined number of dimensions called an order (rank). \n",
        "\n",
        "**Scalar** can be considered as a rank-0-tensor. \n",
        "\n",
        "**Vector** can be introduced as a rank-1-tensor. \n",
        "\n",
        "**Matrices** can be considered as a rank-2-tensor.\n",
        "\n",
        "# Tensor Basics\n",
        "\n",
        "Let's import the torch module first."
      ]
    },
    {
      "cell_type": "code",
      "metadata": {
        "id": "e-oFVL2tYYqp",
        "colab_type": "code",
        "colab": {}
      },
      "source": [
        "import numpy as np\n",
        "import torch"
      ],
      "execution_count": 36,
      "outputs": []
    },
    {
      "cell_type": "markdown",
      "metadata": {
        "id": "uGxuR5IEaFJa",
        "colab_type": "text"
      },
      "source": [
        "## Tensor Creation\n",
        "Let's view examples of matrices and tensors generation\n",
        "\n",
        "2-dimensional (rank-2) tensor of zeros:"
      ]
    },
    {
      "cell_type": "code",
      "metadata": {
        "id": "897JQc25aD3E",
        "colab_type": "code",
        "colab": {
          "base_uri": "https://localhost:8080/",
          "height": 73
        },
        "outputId": "1b9c7551-4d6b-4006-f1d4-3363ad27194d"
      },
      "source": [
        "torch.zeros(3, 4)"
      ],
      "execution_count": 37,
      "outputs": [
        {
          "output_type": "execute_result",
          "data": {
            "text/plain": [
              "tensor([[0., 0., 0., 0.],\n",
              "        [0., 0., 0., 0.],\n",
              "        [0., 0., 0., 0.]])"
            ]
          },
          "metadata": {
            "tags": []
          },
          "execution_count": 37
        }
      ]
    },
    {
      "cell_type": "markdown",
      "metadata": {
        "id": "pujmpEBhaPRA",
        "colab_type": "text"
      },
      "source": [
        "Random rank-3 tensor:\n",
        "_read the print below and convince yourself how this is a rank-3-tensor and learn what those 2, 3, 4 values are there for_"
      ]
    },
    {
      "cell_type": "code",
      "metadata": {
        "id": "mBrznTNhaOL7",
        "colab_type": "code",
        "colab": {
          "base_uri": "https://localhost:8080/",
          "height": 147
        },
        "outputId": "dd4023c5-4ac5-4cea-cd84-0a84d90c3fb5"
      },
      "source": [
        "torch.rand(2, 3, 4)"
      ],
      "execution_count": 38,
      "outputs": [
        {
          "output_type": "execute_result",
          "data": {
            "text/plain": [
              "tensor([[[0.4472, 0.2112, 0.8248, 0.4362],\n",
              "         [0.4703, 0.5773, 0.7977, 0.8574],\n",
              "         [0.6135, 0.3576, 0.0339, 0.2259]],\n",
              "\n",
              "        [[0.8499, 0.2319, 0.6008, 0.7005],\n",
              "         [0.6382, 0.5395, 0.8667, 0.5610],\n",
              "         [0.6832, 0.2127, 0.0318, 0.6594]]])"
            ]
          },
          "metadata": {
            "tags": []
          },
          "execution_count": 38
        }
      ]
    },
    {
      "cell_type": "markdown",
      "metadata": {
        "id": "kO4fIr15asdi",
        "colab_type": "text"
      },
      "source": [
        "I am hoping you have noticed 4-elements in a row, 3 rows making one block and there are 2 blocks. \n",
        "\n",
        "Random rank-4-tensor:"
      ]
    },
    {
      "cell_type": "code",
      "metadata": {
        "id": "KiCLvMGCaVZ3",
        "colab_type": "code",
        "colab": {
          "base_uri": "https://localhost:8080/",
          "height": 240
        },
        "outputId": "f23b3074-a162-4fb4-9a9a-aa93850d38e6"
      },
      "source": [
        "torch.rand(2, 2, 2, 3)"
      ],
      "execution_count": 39,
      "outputs": [
        {
          "output_type": "execute_result",
          "data": {
            "text/plain": [
              "tensor([[[[0.3798, 0.2936, 0.0421],\n",
              "          [0.5487, 0.4603, 0.8687]],\n",
              "\n",
              "         [[0.1465, 0.1694, 0.5917],\n",
              "          [0.6427, 0.9529, 0.1955]]],\n",
              "\n",
              "\n",
              "        [[[0.4536, 0.4069, 0.1704],\n",
              "          [0.7872, 0.3592, 0.6251]],\n",
              "\n",
              "         [[0.8762, 0.9289, 0.3384],\n",
              "          [0.7542, 0.6587, 0.9303]]]])"
            ]
          },
          "metadata": {
            "tags": []
          },
          "execution_count": 39
        }
      ]
    },
    {
      "cell_type": "markdown",
      "metadata": {
        "id": "lF6VL68s3AMV",
        "colab_type": "text"
      },
      "source": [
        "## Question 1: [Answer - 4]\n",
        "\n",
        "How many dimensions are there in a tensor defined as below?"
      ]
    },
    {
      "cell_type": "code",
      "metadata": {
        "id": "8IbXcI3x3Ibt",
        "colab_type": "code",
        "colab": {
          "base_uri": "https://localhost:8080/",
          "height": 54
        },
        "outputId": "c0bc40ee-fbb7-42c9-8e42-c1cbe53a8d14"
      },
      "source": [
        "a = torch.rand(1, 1, 1, 1)\n",
        "print(a)\n",
        "b = torch.rand_like(a)\n",
        "print(b)"
      ],
      "execution_count": 40,
      "outputs": [
        {
          "output_type": "stream",
          "text": [
            "tensor([[[[0.8728]]]])\n",
            "tensor([[[[0.8424]]]])\n"
          ],
          "name": "stdout"
        }
      ]
    },
    {
      "cell_type": "code",
      "metadata": {
        "id": "pqLQoxjyxI-l",
        "colab_type": "code",
        "colab": {
          "base_uri": "https://localhost:8080/",
          "height": 91
        },
        "outputId": "21f43bfd-9869-47e0-8e45-236eb86f1fc0"
      },
      "source": [
        "c=torch.randn((2,2))\n",
        "print(c)\n",
        "d = torch.rand_like(c)\n",
        "print(d)"
      ],
      "execution_count": 41,
      "outputs": [
        {
          "output_type": "stream",
          "text": [
            "tensor([[ 1.7515, -2.0642],\n",
            "        [ 0.5769,  2.0727]])\n",
            "tensor([[0.9243, 0.1710],\n",
            "        [0.6949, 0.3242]])\n"
          ],
          "name": "stdout"
        }
      ]
    },
    {
      "cell_type": "code",
      "metadata": {
        "id": "WxMrJbDPL01m",
        "colab_type": "code",
        "colab": {
          "base_uri": "https://localhost:8080/",
          "height": 259
        },
        "outputId": "deccfb49-1030-4bb0-8288-9be047959ee0"
      },
      "source": [
        "a = torch.randint(3, 10, (2, 2))\n",
        "b = torch.randint(2, (3,3,3))\n",
        "print(a)\n",
        "print(b)\n",
        "# c = torch.rand_like(a)\n",
        "# print(c)"
      ],
      "execution_count": 42,
      "outputs": [
        {
          "output_type": "stream",
          "text": [
            "tensor([[5, 6],\n",
            "        [6, 9]])\n",
            "tensor([[[0, 1, 0],\n",
            "         [1, 0, 1],\n",
            "         [0, 0, 1]],\n",
            "\n",
            "        [[0, 0, 1],\n",
            "         [1, 1, 0],\n",
            "         [0, 0, 0]],\n",
            "\n",
            "        [[1, 0, 1],\n",
            "         [0, 1, 0],\n",
            "         [0, 1, 0]]])\n"
          ],
          "name": "stdout"
        }
      ]
    },
    {
      "cell_type": "code",
      "metadata": {
        "id": "eUDjeNvJMUIQ",
        "colab_type": "code",
        "colab": {
          "base_uri": "https://localhost:8080/",
          "height": 91
        },
        "outputId": "0aca6c3b-1bc6-471a-97bf-0231dcb7a024"
      },
      "source": [
        "a = torch.randn(2, 3)\n",
        "print(a)\n",
        "print(torch.randn_like(a))"
      ],
      "execution_count": 43,
      "outputs": [
        {
          "output_type": "stream",
          "text": [
            "tensor([[ 0.2588,  1.5358, -1.0124],\n",
            "        [ 0.3025,  0.1000,  0.2041]])\n",
            "tensor([[-0.2426, -0.6343,  0.3811],\n",
            "        [-1.1423, -0.9872,  0.0592]])\n"
          ],
          "name": "stdout"
        }
      ]
    },
    {
      "cell_type": "code",
      "metadata": {
        "id": "WCrtb85cPebn",
        "colab_type": "code",
        "colab": {}
      },
      "source": [
        ""
      ],
      "execution_count": 43,
      "outputs": []
    },
    {
      "cell_type": "code",
      "metadata": {
        "id": "caSoL67RL1mx",
        "colab_type": "code",
        "colab": {
          "base_uri": "https://localhost:8080/",
          "height": 110
        },
        "outputId": "f55e7293-c6ac-4764-909d-e47edf6f74d3"
      },
      "source": [
        "a = torch.randint(3, 10, (2, 2, 2))\n",
        "print(a)"
      ],
      "execution_count": 44,
      "outputs": [
        {
          "output_type": "stream",
          "text": [
            "tensor([[[6, 3],\n",
            "         [8, 5]],\n",
            "\n",
            "        [[5, 8],\n",
            "         [4, 4]]])\n"
          ],
          "name": "stdout"
        }
      ]
    },
    {
      "cell_type": "markdown",
      "metadata": {
        "id": "qmgpqssRa9jF",
        "colab_type": "text"
      },
      "source": [
        ".\n",
        "\n",
        "---\n",
        "\n",
        "\n",
        "There are many more ways to create tensor using some restrictions on values it should contatn - for the full reference, please follow the [official docs](https://pytorch.org/docs/stable/torch.html#creation-ops). \n",
        "\n",
        "\n",
        ".\n",
        "---\n",
        "\n",
        "\n",
        "# Python / NumPy / Pytorch interoperability\n",
        "\n",
        "You can create tensors from python as well as numpy arrays. You can also convert torch tensors to numpy arrays. So, the interoperability between torch and numpy is pretty good. "
      ]
    },
    {
      "cell_type": "code",
      "metadata": {
        "id": "ipgpeWPfa6gE",
        "colab_type": "code",
        "colab": {
          "base_uri": "https://localhost:8080/",
          "height": 296
        },
        "outputId": "fb258fad-b839-4a6e-8e82-790319d19d36"
      },
      "source": [
        "# Simple Python List\n",
        "python_list = [1, 2]\n",
        "\n",
        "# Create a numpy array from python list\n",
        "numpy_array = np.array(python_list)\n",
        "\n",
        "# Create a torch Tensor from python list\n",
        "tensor_from_list = torch.tensor(python_list)\n",
        "\n",
        "# Create a torch Tensor from Numpy array\n",
        "tensor_from_array = torch.tensor(numpy_array)\n",
        "\n",
        "# Another way to create a torch Tensor from Numpy array (share same storage)\n",
        "tensor_from_array_v2 = torch.from_numpy(numpy_array)\n",
        "\n",
        "# Convert torch tensor to numpy array\n",
        "array_from_tensor = tensor_from_array.numpy()\n",
        "\n",
        "print('List:   ', python_list)\n",
        "print('Array:  ', numpy_array)\n",
        "print('Tensor: ', tensor_from_list)\n",
        "print('Tensor: ', tensor_from_array)\n",
        "print('Tensor: ', tensor_from_array_v2)\n",
        "print('Array:  ', array_from_tensor)\n",
        "\n",
        "print(\"numpy_array.dtype=\", numpy_array.dtype)\n",
        "print(\"tensor_from_array.dtype =\", tensor_from_array.dtype)\n",
        "print(\"tensor_from_array_v2.dtype=\",tensor_from_array_v2.dtype)\n",
        "\n",
        "numpy_array[0]=123456\n",
        "print('List:   ', python_list)\n",
        "print('Array:  ', numpy_array)\n",
        "print('Tensor: ', tensor_from_list)\n",
        "print('Tensor: ', tensor_from_array)\n",
        "print('Tensor: ', tensor_from_array_v2)\n",
        "print('Array:  ', array_from_tensor)"
      ],
      "execution_count": 45,
      "outputs": [
        {
          "output_type": "stream",
          "text": [
            "List:    [1, 2]\n",
            "Array:   [1 2]\n",
            "Tensor:  tensor([1, 2])\n",
            "Tensor:  tensor([1, 2])\n",
            "Tensor:  tensor([1, 2])\n",
            "Array:   [1 2]\n",
            "numpy_array.dtype= int64\n",
            "tensor_from_array.dtype = torch.int64\n",
            "tensor_from_array_v2.dtype= torch.int64\n",
            "List:    [1, 2]\n",
            "Array:   [123456      2]\n",
            "Tensor:  tensor([1, 2])\n",
            "Tensor:  tensor([1, 2])\n",
            "Tensor:  tensor([123456,      2])\n",
            "Array:   [1 2]\n"
          ],
          "name": "stdout"
        }
      ]
    },
    {
      "cell_type": "markdown",
      "metadata": {
        "id": "X_x-86B8gqik",
        "colab_type": "text"
      },
      "source": [
        "**Difference between** `torch.Tensor` **and** `torch.from_numpy`\n",
        "\n",
        "Pytorch aims to be an effective library for computations. What does it mean? It means that pytorch avoids memory copying if it can. "
      ]
    },
    {
      "cell_type": "code",
      "metadata": {
        "id": "eHCKDGpygn_d",
        "colab_type": "code",
        "colab": {
          "base_uri": "https://localhost:8080/",
          "height": 73
        },
        "outputId": "b28cf040-d1e2-4335-a989-e6210c569b5f"
      },
      "source": [
        "numpy_array[0] = 10\n",
        "\n",
        "print('Array:  ', numpy_array)\n",
        "print('Tensor: ', tensor_from_array)\n",
        "print('Tensor: ', tensor_from_array_v2)"
      ],
      "execution_count": 46,
      "outputs": [
        {
          "output_type": "stream",
          "text": [
            "Array:   [10  2]\n",
            "Tensor:  tensor([1, 2])\n",
            "Tensor:  tensor([10,  2])\n"
          ],
          "name": "stdout"
        }
      ]
    },
    {
      "cell_type": "markdown",
      "metadata": {
        "id": "-CKtdNRM3SMp",
        "colab_type": "text"
      },
      "source": [
        "## Question 2: [Answer - refer below]\n",
        "\n",
        "Assume that we moved our complete (cats vs dogs) image dataset to numpy arrays. Then we use torch.from_numpy to convert these images to tensor. Then we apply a specific data augmentation strategy called \"CutOut\" which blocks a portion of the image directly on these tensors. What will happen to the accuracy of a model trained on this strategy compared to the one without this strategy? CutOut strategy is shown below: \n",
        "\n",
        "![CutOut](https://encrypted-tbn0.gstatic.com/images?q=tbn%3AANd9GcSnSyN835AmtQPKQbPjDHX-FmshNilbtexX95cRGQPwl56QCGDn)\n",
        "\n",
        "## Question 3: [Answer - refer below ]\n",
        "Why do you think we are observing this behavior?\n",
        "### Answer - 2\n",
        "It will remain same or increase. Cutout is an image augmentation process through which via neural netowrk shall address overfitting. If we observe the table in the below link - \n",
        "https://link.springer.com/article/10.1186/s40537-019-0197-0/tables/2\n",
        "The error rate has been decreased with Resnet, Wideresnet and ShakeShakeNet (Never heard of shakeshakenet - need to study)\n",
        "\n",
        "### Answer 3\n",
        "The main idea for cutout image augmentation is to reduce the overfitting of the neural network or we can say it is one of the regularization methods. If we apply imagecutout augmentation I understand the neural network will try to learn more generalized features.\n",
        "\n",
        "Ref - https://arxiv.org/pdf/1708.04552.pdf\n",
        "https://link.springer.com/article/10.1186/s40537-019-0197-0\n",
        "\n",
        "\n",
        "\n",
        "\n",
        "---\n",
        "\n",
        "\n"
      ]
    },
    {
      "cell_type": "markdown",
      "metadata": {
        "id": "dZq7O-aihSOA",
        "colab_type": "text"
      },
      "source": [
        "We have two different ways to create tensor from its NumPy counterpart - one copies memory and another one shares the same underlying storage. It works in the opposite way:"
      ]
    },
    {
      "cell_type": "code",
      "metadata": {
        "id": "TNFOwV8EhPwQ",
        "colab_type": "code",
        "colab": {
          "base_uri": "https://localhost:8080/",
          "height": 91
        },
        "outputId": "7334e804-42dd-4514-a13b-28f4c28ebe9f"
      },
      "source": [
        "array_from_tensor = tensor_from_array.numpy()\n",
        "print('Tensor: ', tensor_from_array)\n",
        "print('Array: ', array_from_tensor)\n",
        "\n",
        "tensor_from_array[0] = 11\n",
        "print('Tensor: ', tensor_from_array)\n",
        "print('Array: ', array_from_tensor)"
      ],
      "execution_count": 47,
      "outputs": [
        {
          "output_type": "stream",
          "text": [
            "Tensor:  tensor([1, 2])\n",
            "Array:  [1 2]\n",
            "Tensor:  tensor([11,  2])\n",
            "Array:  [11  2]\n"
          ],
          "name": "stdout"
        }
      ]
    },
    {
      "cell_type": "markdown",
      "metadata": {
        "id": "UM9ytbvKhtCw",
        "colab_type": "text"
      },
      "source": [
        "## Data types\n",
        "\n",
        "The basic data type of all Deep Learning-related operations is float, but sometimes you may need something else. Pytorch support different number types for its tensors the same way NumPy does it - by specifying the data type on tensor creation or via casting. Ths full list of supported data types can be found [here](https://pytorch.org/docs/stable/tensors.html). "
      ]
    },
    {
      "cell_type": "code",
      "metadata": {
        "id": "Bd6WkzJ4hpYi",
        "colab_type": "code",
        "colab": {
          "base_uri": "https://localhost:8080/",
          "height": 166
        },
        "outputId": "006d57c5-e26c-4ce7-ccbe-16ca5b58e980"
      },
      "source": [
        "tensor = torch.zeros(2, 2)\n",
        "print('Tensor with default type: ', tensor)\n",
        "tensor = torch.zeros(2, 2, dtype=torch.float16)\n",
        "print('Tensor with 16-bit float: ', tensor)\n",
        "tensor = torch.zeros(2, 2, dtype=torch.int16)\n",
        "print('Tensor with integers: ', tensor)\n",
        "tensor = torch.zeros(2, 2, dtype=torch.bool)\n",
        "print('Tensor with boolean data: ', tensor)"
      ],
      "execution_count": 48,
      "outputs": [
        {
          "output_type": "stream",
          "text": [
            "Tensor with default type:  tensor([[0., 0.],\n",
            "        [0., 0.]])\n",
            "Tensor with 16-bit float:  tensor([[0., 0.],\n",
            "        [0., 0.]], dtype=torch.float16)\n",
            "Tensor with integers:  tensor([[0, 0],\n",
            "        [0, 0]], dtype=torch.int16)\n",
            "Tensor with boolean data:  tensor([[False, False],\n",
            "        [False, False]])\n"
          ],
          "name": "stdout"
        }
      ]
    },
    {
      "cell_type": "code",
      "metadata": {
        "id": "SlYjigEP1Zj2",
        "colab_type": "code",
        "colab": {
          "base_uri": "https://localhost:8080/",
          "height": 73
        },
        "outputId": "1b877209-f37b-4435-bed8-af1cfbf85909"
      },
      "source": [
        "tensor = torch.randn(2,2,dtype=torch.cfloat)\n",
        "print('tensor with complex data = ', tensor)\n",
        "print(tensor.is_complex())"
      ],
      "execution_count": 49,
      "outputs": [
        {
          "output_type": "stream",
          "text": [
            "tensor with complex data =  tensor([[-0.3661-0.3201j,  0.2903-0.1838j],\n",
            "        [ 1.2963+0.9216j,  1.1791-0.2270j]])\n",
            "True\n"
          ],
          "name": "stdout"
        }
      ]
    },
    {
      "cell_type": "markdown",
      "metadata": {
        "id": "a9F4Dkdr40TE",
        "colab_type": "text"
      },
      "source": [
        "\n",
        "\n",
        "---\n",
        "\n",
        "\n",
        "## Question 4: [Answer - orignal tensor doesnt change - tensor::numpy() creates a new memory copy]\n",
        "We saw above that some times numpy and tensors share same storage and changing one changes the other. \n",
        "If we define a rank-2-tensor with ones (dtype of f16), and then convert it into a numpy data type using tensor.numpy() and store it in a variable called \"num\", and then we perform this operation `num = num * 0.5`, will the original tensor have 1.0s or 0.5s as its element values? \n"
      ]
    },
    {
      "cell_type": "code",
      "metadata": {
        "id": "qwTC7DeG2siR",
        "colab_type": "code",
        "colab": {
          "base_uri": "https://localhost:8080/",
          "height": 166
        },
        "outputId": "b6cba174-474a-407d-8c17-4184a1493cd1"
      },
      "source": [
        "tensorRank2 = torch.ones(2,2, dtype=torch.float16)\n",
        "print(tensorRank2)\n",
        "num = tensorRank2.numpy()\n",
        "print(num, num.dtype)\n",
        "num = num*0.5\n",
        "print(num)\n",
        "print(tensorRank2)"
      ],
      "execution_count": 50,
      "outputs": [
        {
          "output_type": "stream",
          "text": [
            "tensor([[1., 1.],\n",
            "        [1., 1.]], dtype=torch.float16)\n",
            "[[1. 1.]\n",
            " [1. 1.]] float16\n",
            "[[0.5 0.5]\n",
            " [0.5 0.5]]\n",
            "tensor([[1., 1.],\n",
            "        [1., 1.]], dtype=torch.float16)\n"
          ],
          "name": "stdout"
        }
      ]
    },
    {
      "cell_type": "code",
      "metadata": {
        "id": "EyN-0u-A4J-d",
        "colab_type": "code",
        "colab": {
          "base_uri": "https://localhost:8080/",
          "height": 166
        },
        "outputId": "d253c01c-da9c-45ef-fdab-77558da0b277"
      },
      "source": [
        "num1 = torch.Tensor.numpy(tensorRank2)\n",
        "print(num1)\n",
        "print(tensorRank2)\n",
        "num1 = num1 * 0.5\n",
        "print(num1)\n",
        "print(tensorRank2)"
      ],
      "execution_count": 51,
      "outputs": [
        {
          "output_type": "stream",
          "text": [
            "[[1. 1.]\n",
            " [1. 1.]]\n",
            "tensor([[1., 1.],\n",
            "        [1., 1.]], dtype=torch.float16)\n",
            "[[0.5 0.5]\n",
            " [0.5 0.5]]\n",
            "tensor([[1., 1.],\n",
            "        [1., 1.]], dtype=torch.float16)\n"
          ],
          "name": "stdout"
        }
      ]
    },
    {
      "cell_type": "markdown",
      "metadata": {
        "id": "OiQt8Mmm51OE",
        "colab_type": "text"
      },
      "source": [
        "\n",
        "\n",
        "---\n",
        "\n",
        "## Question 5: [Answer - 0.5]\n",
        "If the operation `num = num*5` is changed to `num[:] = num*5` will the original tensor have 1.0s or 0.5s as its element values? \n",
        "\n",
        "\n",
        "\n",
        "---\n",
        "\n"
      ]
    },
    {
      "cell_type": "code",
      "metadata": {
        "id": "hV7-Z1tj6Jm7",
        "colab_type": "code",
        "colab": {
          "base_uri": "https://localhost:8080/",
          "height": 166
        },
        "outputId": "ff99073c-ecb9-4399-b23e-610a1130027a"
      },
      "source": [
        "tensorRank2 = torch.ones(2,2, dtype=torch.float16)\n",
        "print(tensorRank2)\n",
        "num = tensorRank2.numpy()\n",
        "print(num, num.dtype)\n",
        "num[:] = num*0.5\n",
        "print(num)\n",
        "print(tensorRank2)"
      ],
      "execution_count": 52,
      "outputs": [
        {
          "output_type": "stream",
          "text": [
            "tensor([[1., 1.],\n",
            "        [1., 1.]], dtype=torch.float16)\n",
            "[[1. 1.]\n",
            " [1. 1.]] float16\n",
            "[[0.5 0.5]\n",
            " [0.5 0.5]]\n",
            "tensor([[0.5000, 0.5000],\n",
            "        [0.5000, 0.5000]], dtype=torch.float16)\n"
          ],
          "name": "stdout"
        }
      ]
    },
    {
      "cell_type": "code",
      "metadata": {
        "id": "XCX19X7O6L5U",
        "colab_type": "code",
        "colab": {}
      },
      "source": [
        ""
      ],
      "execution_count": 52,
      "outputs": []
    },
    {
      "cell_type": "markdown",
      "metadata": {
        "id": "vzh8UB8KiVmb",
        "colab_type": "text"
      },
      "source": [
        "## Indexing\n",
        "\n",
        "Tensor provides access to its elements via the same `[]` operation as a regular python list or NumPy array. However, as you may recall from NumPy usage, the full power of math libraries is accessible only via vectorized operations, i.e. operations without explicit looping over all vector elements in python and using implicit optimized loops in C/C++/CUDA/Fortran/etc. available via special function calls. Pytorch employs the same paradigm and provides a wide range of vectorized operations. Let's take a look at some examples. \n",
        "\n",
        "Joining a list of tensors together with `torch.cat`"
      ]
    },
    {
      "cell_type": "code",
      "metadata": {
        "id": "GMaCDKPhiUAb",
        "colab_type": "code",
        "colab": {
          "base_uri": "https://localhost:8080/",
          "height": 129
        },
        "outputId": "14b2d4ed-6472-47c2-c550-32eaff30601f"
      },
      "source": [
        "a = torch.zeros(3, 2)\n",
        "b = torch.ones(3, 2)\n",
        "c = torch.cat((a,b),dim = 0)\n",
        "print(c)"
      ],
      "execution_count": 53,
      "outputs": [
        {
          "output_type": "stream",
          "text": [
            "tensor([[0., 0.],\n",
            "        [0., 0.],\n",
            "        [0., 0.],\n",
            "        [1., 1.],\n",
            "        [1., 1.],\n",
            "        [1., 1.]])\n"
          ],
          "name": "stdout"
        }
      ]
    },
    {
      "cell_type": "markdown",
      "metadata": {
        "id": "5bj4aeE86zdH",
        "colab_type": "text"
      },
      "source": [
        "\n",
        "\n",
        "---\n",
        "\n",
        "## Question 6: [Answer - No ]\n",
        "Is the transpose of concatenated a & b tensor on dimension 1, same as the contatenated tensor of a & b on dimension 0? \n",
        "\n",
        "\n",
        "\n",
        "---\n",
        "\n"
      ]
    },
    {
      "cell_type": "code",
      "metadata": {
        "id": "uSd1TRKw8NBB",
        "colab_type": "code",
        "colab": {
          "base_uri": "https://localhost:8080/",
          "height": 166
        },
        "outputId": "1fb33b11-5640-4ccb-de75-82b56f85f4b1"
      },
      "source": [
        "print(torch.cat((a.T, b.T), dim=1))\n",
        "print(c.T)\n",
        "print(torch.cat((a.T, b.T), dim=0))"
      ],
      "execution_count": 54,
      "outputs": [
        {
          "output_type": "stream",
          "text": [
            "tensor([[0., 0., 0., 1., 1., 1.],\n",
            "        [0., 0., 0., 1., 1., 1.]])\n",
            "tensor([[0., 0., 0., 1., 1., 1.],\n",
            "        [0., 0., 0., 1., 1., 1.]])\n",
            "tensor([[0., 0., 0.],\n",
            "        [0., 0., 0.],\n",
            "        [1., 1., 1.],\n",
            "        [1., 1., 1.]])\n"
          ],
          "name": "stdout"
        }
      ]
    },
    {
      "cell_type": "code",
      "metadata": {
        "id": "MthfwdUB8Nja",
        "colab_type": "code",
        "colab": {}
      },
      "source": [
        ""
      ],
      "execution_count": 54,
      "outputs": []
    },
    {
      "cell_type": "markdown",
      "metadata": {
        "id": "0TXNne69j7LP",
        "colab_type": "text"
      },
      "source": [
        "Indexing with another tenxor/array:"
      ]
    },
    {
      "cell_type": "code",
      "metadata": {
        "id": "KiE-Fsi4jVd6",
        "colab_type": "code",
        "colab": {
          "base_uri": "https://localhost:8080/",
          "height": 110
        },
        "outputId": "90ad34a8-54ae-4bc5-b9de-7a3cd9c112ec"
      },
      "source": [
        "a = torch.arange(start=0, end=10)\n",
        "indices = np.arange(0, 10) > 5\n",
        "print(a)\n",
        "print(indices)\n",
        "print(a[indices])\n",
        "\n",
        "indices = torch.arange(start=0, end=10) %5\n",
        "print(indices)\n",
        "print(a[indices])"
      ],
      "execution_count": 55,
      "outputs": [
        {
          "output_type": "stream",
          "text": [
            "tensor([0, 1, 2, 3, 4, 5, 6, 7, 8, 9])\n",
            "[False False False False False False  True  True  True  True]\n",
            "tensor([6, 7, 8, 9])\n",
            "tensor([0, 1, 2, 3, 4, 0, 1, 2, 3, 4])\n",
            "tensor([0, 1, 2, 3, 4, 0, 1, 2, 3, 4])\n"
          ],
          "name": "stdout"
        }
      ]
    },
    {
      "cell_type": "markdown",
      "metadata": {
        "id": "LS4dnlu47WQu",
        "colab_type": "text"
      },
      "source": [
        "\n",
        "\n",
        "---\n",
        "\n",
        "## Question 7: [Answer = Yes, they are same]\n",
        "\n",
        "`a` is defined as `torch.arange(start=0, end=10)`. We will create `b` using the two operations as below. In both cases do we get the same value?\n",
        "\n",
        "\n",
        "1.   indices variable created by the modulo operation on arange between 0 and 10. Then a new varialble `b` is created from `a` using the last 5 elements of indices. \n",
        "2.   indices variable created by the modulo operation on arange betwenn 1 and 11. Then a new varialble `b` is created from `a` using the last 5 elements of indices. \n",
        "\n",
        "\n",
        "\n",
        "---\n",
        "\n",
        "\n"
      ]
    },
    {
      "cell_type": "code",
      "metadata": {
        "id": "v8T6DD3F-leB",
        "colab_type": "code",
        "colab": {
          "base_uri": "https://localhost:8080/",
          "height": 73
        },
        "outputId": "15ac552b-0585-4aac-bdb1-8b48335dd39f"
      },
      "source": [
        "a = torch.arange(start=0,end=10)\n",
        "indices = a%10\n",
        "b = indices[5:]\n",
        "print(a)\n",
        "print(indices)\n",
        "print(b)"
      ],
      "execution_count": 56,
      "outputs": [
        {
          "output_type": "stream",
          "text": [
            "tensor([0, 1, 2, 3, 4, 5, 6, 7, 8, 9])\n",
            "tensor([0, 1, 2, 3, 4, 5, 6, 7, 8, 9])\n",
            "tensor([5, 6, 7, 8, 9])\n"
          ],
          "name": "stdout"
        }
      ]
    },
    {
      "cell_type": "code",
      "metadata": {
        "id": "yRow7kX1Advj",
        "colab_type": "code",
        "colab": {
          "base_uri": "https://localhost:8080/",
          "height": 54
        },
        "outputId": "e6104a0e-2f89-4488-d731-d358afe23a94"
      },
      "source": [
        "d = torch.arange(start=0, end=10)%11\n",
        "print(d)\n",
        "e = d[5:]\n",
        "print(e)"
      ],
      "execution_count": 74,
      "outputs": [
        {
          "output_type": "stream",
          "text": [
            "tensor([0, 1, 2, 3, 4, 5, 6, 7, 8, 9])\n",
            "tensor([5, 6, 7, 8, 9])\n"
          ],
          "name": "stdout"
        }
      ]
    },
    {
      "cell_type": "code",
      "metadata": {
        "id": "o0f_vxd2-ljO",
        "colab_type": "code",
        "colab": {}
      },
      "source": [
        ""
      ],
      "execution_count": 57,
      "outputs": []
    },
    {
      "cell_type": "markdown",
      "metadata": {
        "id": "eQ4ZCVsTk-KH",
        "colab_type": "text"
      },
      "source": [
        "What should we do if we have, say, rank-2-tensor and want to select only some rows?"
      ]
    },
    {
      "cell_type": "code",
      "metadata": {
        "id": "_GtRpotjkt1q",
        "colab_type": "code",
        "colab": {
          "base_uri": "https://localhost:8080/",
          "height": 147
        },
        "outputId": "00f0c97b-ac41-4a59-99a1-b8cfb040940e"
      },
      "source": [
        "tensor = torch.rand((5, 3))\n",
        "rows = torch.tensor([0, 2])\n",
        "print(tensor)\n",
        "tensor[rows]"
      ],
      "execution_count": 58,
      "outputs": [
        {
          "output_type": "stream",
          "text": [
            "tensor([[0.8851, 0.4375, 0.4173],\n",
            "        [0.7655, 0.7077, 0.2715],\n",
            "        [0.7520, 0.0657, 0.6852],\n",
            "        [0.7204, 0.9471, 0.6402],\n",
            "        [0.9732, 0.8428, 0.1613]])\n"
          ],
          "name": "stdout"
        },
        {
          "output_type": "execute_result",
          "data": {
            "text/plain": [
              "tensor([[0.8851, 0.4375, 0.4173],\n",
              "        [0.7520, 0.0657, 0.6852]])"
            ]
          },
          "metadata": {
            "tags": []
          },
          "execution_count": 58
        }
      ]
    },
    {
      "cell_type": "markdown",
      "metadata": {
        "id": "zIJnr_N2_Qaf",
        "colab_type": "text"
      },
      "source": [
        "\n",
        "\n",
        "---\n",
        "\n",
        "## Question 8: [Answer = N0]\n",
        "\n",
        "Consider a tensor defined as `torch.rand((6, 5))`. Is the shape of the new tensor created by taking the 0th, 2nd and 4th row of the old tensor same as the shape of the a newer tensor created by taking the 0th, 2nd and 4th row of the old tensor after transposing it by operation `torch.transpose(tensor, 0, 1)` ?\n",
        "\n",
        "\n",
        "\n",
        "---\n",
        "\n",
        "\n"
      ]
    },
    {
      "cell_type": "code",
      "metadata": {
        "id": "CXgPH37RCPf5",
        "colab_type": "code",
        "colab": {
          "base_uri": "https://localhost:8080/",
          "height": 129
        },
        "outputId": "091b5cab-42b4-4f8f-861f-1acda108221c"
      },
      "source": [
        "a = torch.rand((6,5))\n",
        "rows= torch.tensor([0,2,4])\n",
        "\n",
        "b = torch.transpose(a, 0, 1)\n",
        "\n",
        "a1 = a[rows]\n",
        "b1 = b[rows]\n",
        "\n",
        "print(a1)\n",
        "print(b1)"
      ],
      "execution_count": 59,
      "outputs": [
        {
          "output_type": "stream",
          "text": [
            "tensor([[0.7051, 0.5214, 0.6041, 0.0746, 0.8335],\n",
            "        [0.1548, 0.6737, 0.2632, 0.3011, 0.6378],\n",
            "        [0.0059, 0.2965, 0.1108, 0.2931, 0.7122]])\n",
            "tensor([[0.7051, 0.4173, 0.1548, 0.8342, 0.0059, 0.2955],\n",
            "        [0.6041, 0.5742, 0.2632, 0.1317, 0.1108, 0.5100],\n",
            "        [0.8335, 0.9951, 0.6378, 0.8655, 0.7122, 0.7826]])\n"
          ],
          "name": "stdout"
        }
      ]
    },
    {
      "cell_type": "markdown",
      "metadata": {
        "id": "naDzFMkslU0b",
        "colab_type": "text"
      },
      "source": [
        "## Tensor Shapes\n",
        "\n",
        "Reshaping a tensor is a frequently used operation. We can change the shape of a tensor without the memory copying overhead. There are two methods for that: `reshape` and `view`. \n",
        "\n",
        "The difference is the following: \n",
        "\n",
        "\n",
        "*   view tries to return a tensor, and it shares the same memory with the original tensor. In case, if it cannot reuse the same memory due to [some reason](https://pytorch.org/docs/stable/tensors.html?highlight=view#torch.Tensor.view), it just fails. \n",
        "*   reshape always returns the tensor with the desired shape and tries to reuse the memory. If it cannot, it creates a copy\n",
        "\n",
        "Let's see with the help of an example:"
      ]
    },
    {
      "cell_type": "code",
      "metadata": {
        "id": "HClDkqLLlMJh",
        "colab_type": "code",
        "colab": {
          "base_uri": "https://localhost:8080/",
          "height": 185
        },
        "outputId": "4f17fad5-f11d-4300-aa16-64be1178578c"
      },
      "source": [
        "tensor = torch.rand(2, 3, 4)\n",
        "print('Pointer to data: ', tensor.data_ptr())\n",
        "print('Shape: ', tensor.shape)\n",
        "\n",
        "reshaped = tensor.reshape(24)\n",
        "\n",
        "view = tensor.view(3, 2, 4)\n",
        "print('Reshaped tensor - pointer to data', reshaped.data_ptr())\n",
        "print('Reshaped tensor shape ', reshaped.shape)\n",
        "\n",
        "print('Viewed tensor - pointer to data', view.data_ptr())\n",
        "print('Viewed tensor shape ', view.shape)\n",
        "\n",
        "assert tensor.data_ptr() == view.data_ptr()\n",
        "\n",
        "assert np.all(np.equal(tensor.numpy().flat, reshaped.numpy().flat))\n",
        "\n",
        "print('Original stride: ', tensor.stride())\n",
        "print('Reshaped stride: ', reshaped.stride())\n",
        "print('Viewed stride: ', view.stride())"
      ],
      "execution_count": 60,
      "outputs": [
        {
          "output_type": "stream",
          "text": [
            "Pointer to data:  100987648\n",
            "Shape:  torch.Size([2, 3, 4])\n",
            "Reshaped tensor - pointer to data 100987648\n",
            "Reshaped tensor shape  torch.Size([24])\n",
            "Viewed tensor - pointer to data 100987648\n",
            "Viewed tensor shape  torch.Size([3, 2, 4])\n",
            "Original stride:  (12, 4, 1)\n",
            "Reshaped stride:  (1,)\n",
            "Viewed stride:  (8, 4, 1)\n"
          ],
          "name": "stdout"
        }
      ]
    },
    {
      "cell_type": "markdown",
      "metadata": {
        "id": "jIN5jSppm4yC",
        "colab_type": "text"
      },
      "source": [
        "The basic rule about reshaping the tensor is definitely that you cannot change the total number of elements in it, so the product of all tensor's dimensions should always be the same. It gives us the ability to avoid specifying one dimension when reshaping the tensor - Pytorch can calculate it for us:"
      ]
    },
    {
      "cell_type": "code",
      "metadata": {
        "id": "e3D19ERFmzOl",
        "colab_type": "code",
        "colab": {
          "base_uri": "https://localhost:8080/",
          "height": 73
        },
        "outputId": "00335805-597c-46d4-a797-6ef604c49101"
      },
      "source": [
        "print(tensor.reshape(3, 2, 4).shape)\n",
        "print(tensor.reshape(3, 2, -1).shape)\n",
        "print(tensor.reshape(3, -1, 4).shape)"
      ],
      "execution_count": 61,
      "outputs": [
        {
          "output_type": "stream",
          "text": [
            "torch.Size([3, 2, 4])\n",
            "torch.Size([3, 2, 4])\n",
            "torch.Size([3, 2, 4])\n"
          ],
          "name": "stdout"
        }
      ]
    },
    {
      "cell_type": "markdown",
      "metadata": {
        "id": "ObgCQKUiETak",
        "colab_type": "text"
      },
      "source": [
        "\n",
        "\n",
        "---\n",
        "\n",
        "\n",
        "## Question 9: [Answer = 18]\n",
        "\n",
        "Consider a tensor `a` created with [1, 2, 3] and [1, 2, 3] of size (2, 3) is reshaped with operation `.reshape(-1, 2)`. Also consider a tensor `b` created with [[2, 1]] and of size (1, 2), later operated with `view(2, -1)` operation. \n",
        "\n",
        "If we do a dot product of a and b (using `torch.mm`) and perform the sum of all the elements (using `torch.sum`) what do we get? (enter int value without any decimal point in the quiz)\n",
        "\n",
        "\n",
        "\n",
        "---\n",
        "\n"
      ]
    },
    {
      "cell_type": "code",
      "metadata": {
        "id": "xWt3YymJHXOY",
        "colab_type": "code",
        "colab": {
          "base_uri": "https://localhost:8080/",
          "height": 185
        },
        "outputId": "68bee41e-952b-476f-815c-ebacd5d503a9"
      },
      "source": [
        "a = torch.tensor([[1,2,3],[1,2,3]])\n",
        "print(a, a.shape)\n",
        "\n",
        "a_reshape = a.reshape(-1,2)\n",
        "print(a_reshape, a_reshape.shape)\n",
        "\n",
        "b = torch.tensor([[2,1]])\n",
        "print(b, b.shape)\n",
        "\n",
        "b_view = b.view(2,-1)\n",
        "print(b_view, b_view.shape)\n",
        "\n",
        "torch.sum(torch.mm(a_reshape, b_view))"
      ],
      "execution_count": 62,
      "outputs": [
        {
          "output_type": "stream",
          "text": [
            "tensor([[1, 2, 3],\n",
            "        [1, 2, 3]]) torch.Size([2, 3])\n",
            "tensor([[1, 2],\n",
            "        [3, 1],\n",
            "        [2, 3]]) torch.Size([3, 2])\n",
            "tensor([[2, 1]]) torch.Size([1, 2])\n",
            "tensor([[2],\n",
            "        [1]]) torch.Size([2, 1])\n"
          ],
          "name": "stdout"
        },
        {
          "output_type": "execute_result",
          "data": {
            "text/plain": [
              "tensor(18)"
            ]
          },
          "metadata": {
            "tags": []
          },
          "execution_count": 62
        }
      ]
    },
    {
      "cell_type": "code",
      "metadata": {
        "id": "tUcINmcdHXS0",
        "colab_type": "code",
        "colab": {}
      },
      "source": [
        ""
      ],
      "execution_count": 62,
      "outputs": []
    },
    {
      "cell_type": "markdown",
      "metadata": {
        "id": "mza7QPg3ndeV",
        "colab_type": "text"
      },
      "source": [
        "**Alternative ways to view tensors** - `expand` or `expand_as`.\n",
        "\n",
        "\n",
        "\n",
        "*   `expand` - requires the desired shape as an input\n",
        "*   `expand_as` - uses the shape of another tensor\n",
        "\n",
        "These operations \"repeat\" tensor's values along the specified axes without actually copying the data. \n",
        "\n",
        "As the documentation says, expand:\n",
        "\n",
        "\n",
        "> returns a new view of the self tensor with singleton dimensions expanded to a larger size. Tensor can be also expanded to a larger number of dimensions, and the new ones will be appended at the front. For the new dimensions, the size cannot be set to -1. \n",
        "\n",
        "**Use case:**\n",
        "\n",
        "\n",
        "\n",
        "*   index multi-channel tensor with single-channel mask - imagine a color image with 3 channels (RGB) and binary mask for the area of interest on that image. We cannot index the image with this kind of mask directly since the dimensions are different, but we can use `expand_as` operation to create a view of the mask that has the same dimensions as the image we want to apply it to, but has not copied the data. "
      ]
    },
    {
      "cell_type": "code",
      "metadata": {
        "id": "iz33E-V7nPQT",
        "colab_type": "code",
        "colab": {
          "base_uri": "https://localhost:8080/",
          "height": 597
        },
        "outputId": "fea49d5f-e3ff-4bed-9cac-e94ca86c58d1"
      },
      "source": [
        "%matplotlib inline\n",
        "from matplotlib import pyplot as plt\n",
        "\n",
        "# Create a black image\n",
        "image = torch.zeros(size=(3, 256, 256), dtype=torch.int)\n",
        "\n",
        "# Leave the borders and make the rest of the image Green\n",
        "image[1, 18:256 - 18, 18:256 - 18] = 255\n",
        "\n",
        "# Create a mask of the same size\n",
        "mask = torch.zeros(size=(256, 256), dtype=torch.bool)\n",
        "\n",
        "# Assuming the green region in the original image is the Region of interest, change the mask to white for that area\n",
        "mask[18:256 - 18, 18:256 - 18] = 1\n",
        "\n",
        "# Create a view of the mask with the same dimensions as the original image\n",
        "mask_expanded = mask.expand_as(image)\n",
        "print(mask_expanded.shape)\n",
        "\n",
        "mask_np = mask_expanded.numpy().transpose(1, 2, 0) * 255\n",
        "image_np = image.numpy().transpose(1, 2, 0)\n",
        "\n",
        "fig, ax = plt.subplots(1, 2)\n",
        "ax[0].imshow(image_np)\n",
        "ax[1].imshow(mask_np)\n",
        "plt.show()\n",
        "\n",
        "image[0, mask] += 128\n",
        "fig, ax = plt.subplots(1, 2)\n",
        "ax[0].imshow(image_np)\n",
        "ax[1].imshow(mask_np)\n",
        "plt.show()\n",
        "\n",
        "image[mask_expanded] += 128\n",
        "image.clamp_(0, 255)\n",
        "fig, ax = plt.subplots(1, 2)\n",
        "ax[0].imshow(image_np)\n",
        "ax[1].imshow(mask_np)\n",
        "plt.show()"
      ],
      "execution_count": 63,
      "outputs": [
        {
          "output_type": "stream",
          "text": [
            "torch.Size([3, 256, 256])\n"
          ],
          "name": "stdout"
        },
        {
          "output_type": "display_data",
          "data": {
            "image/png": "[encoded data removed]",
            "text/plain": [
              "<Figure size 432x288 with 2 Axes>"
            ]
          },
          "metadata": {
            "tags": [],
            "needs_background": "light"
          }
        },
        {
          "output_type": "display_data",
          "data": {
            "image/png": "[encoded data removed]",
            "text/plain": [
              "<Figure size 432x288 with 2 Axes>"
            ]
          },
          "metadata": {
            "tags": [],
            "needs_background": "light"
          }
        },
        {
          "output_type": "display_data",
          "data": {
            "image/png": "[encoded data removed]",
            "text/plain": [
              "<Figure size 432x288 with 2 Axes>"
            ]
          },
          "metadata": {
            "tags": [],
            "needs_background": "light"
          }
        }
      ]
    },
    {
      "cell_type": "markdown",
      "metadata": {
        "id": "jiXBx0k3ptOI",
        "colab_type": "text"
      },
      "source": [
        "In the example above, one can also find a couple of useful tricks:\n",
        "\n",
        "\n",
        "*   `clamp` method and function is a Pytorch's analogue of NumPy's `clip` function\n",
        "*   many operations on tensors have in-place form, that does not return modified data, but change values in the tensor. The in-place version of the operation has trailing underscore according to Pytorch's naming convension - in the exmaple above it is `clamp_`\n",
        "*   tensors have the same indexing as Numpy's arrays - one can use `:` seperated range, negative indexes and so on.\n",
        "\n",
        "\n",
        ".\n",
        "\n",
        "\n",
        "---\n",
        "\n",
        "# Images and their representations\n",
        "\n",
        "Now, let's discuss images, their representations and how different Python librarties work with them. \n",
        "\n",
        "Probably, the most well-known library for image loading and simple processing is [Pillow](https://pillow.readthedocs.io/en/stable/). \n",
        "\n",
        "However, many people in deep learning area stick with OpenCV for image loading and processing with some usage of another libraries when it is justified by performance/functionality. This is because OpenCV is in general much faster than the other libraries. Here you can find a couple of benchmarks: \n",
        "\n",
        "*   https://www.kaggle.com/zfturbo/benchmark-2019-speed-of-image-reading\n",
        "*   https://github.com/albumentations-team/albumentations#benchmarking-results\n",
        "\n",
        "To sum up the benchmarks above, there are two most common image formats, PNG and JPEGs. If your data is in PNG format - use OpenCV to read it. If it is in JPEG - use libturbojpeg. For image processing, use OpenCV if possible. _We will be using PIL a lot along with these._\n",
        "\n",
        "As you will read the code from others, you may find out that some of them use Pillow/something else to read data. You should know, that color image representations in OpenCV and other libraries are different - **OpenCV uses \"BGR\" channel order, while others use \"RGB\" one. **\n",
        "\n",
        "To change \"BRG\" <-> \"RGB\" the only thing we need to do it to change channel order."
      ]
    },
    {
      "cell_type": "code",
      "metadata": {
        "id": "ZYv4sZMmpndu",
        "colab_type": "code",
        "colab": {
          "base_uri": "https://localhost:8080/",
          "height": 282
        },
        "outputId": "17e55a97-072d-4645-e976-61ad25f9c610"
      },
      "source": [
        "%matplotlib inline\n",
        "from matplotlib import pyplot as plt\n",
        "import cv2\n",
        "\n",
        "!wget -O mars.jpg -c https://encrypted-tbn0.gstatic.com/images?q=tbn%3AANd9GcRCA40ftnscVzfV8ft8e7vIzQXfXeZdtco8nknJrfCUW6INI40U\n",
        "\n",
        "bgr_image = cv2.imread('mars.jpg') \n",
        "# remember to add your own image in case you run this block, if you want to use the same image, \n",
        "# download it from: https://encrypted-tbn0.gstatic.com/images?q=tbn%3AANd9GcRCA40ftnscVzfV8ft8e7vIzQXfXeZdtco8nknJrfCUW6INI40U\n",
        "rgb_image = bgr_image[..., ::-1]\n",
        "fig, ax = plt.subplots(1, 2)\n",
        "ax[0].imshow(bgr_image)\n",
        "ax[1].imshow(rgb_image)\n",
        "plt.show()"
      ],
      "execution_count": 64,
      "outputs": [
        {
          "output_type": "stream",
          "text": [
            "--2020-08-01 09:59:15--  https://encrypted-tbn0.gstatic.com/images?q=tbn%3AANd9GcRCA40ftnscVzfV8ft8e7vIzQXfXeZdtco8nknJrfCUW6INI40U\n",
            "Resolving encrypted-tbn0.gstatic.com (encrypted-tbn0.gstatic.com)... 74.125.20.100, 74.125.20.102, 74.125.20.101, ...\n",
            "Connecting to encrypted-tbn0.gstatic.com (encrypted-tbn0.gstatic.com)|74.125.20.100|:443... connected.\n",
            "HTTP request sent, awaiting response... 416 Requested range not satisfiable\n",
            "\n",
            "    The file is already fully retrieved; nothing to do.\n",
            "\n"
          ],
          "name": "stdout"
        },
        {
          "output_type": "display_data",
          "data": {
            "image/png": "[encoded data removed]",
            "text/plain": [
              "<Figure size 432x288 with 2 Axes>"
            ]
          },
          "metadata": {
            "tags": [],
            "needs_background": "light"
          }
        }
      ]
    },
    {
      "cell_type": "markdown",
      "metadata": {
        "id": "yoi4TeNBGHle",
        "colab_type": "text"
      },
      "source": [
        "\n",
        "\n",
        "---\n",
        "\n",
        "## Question 10: [Answer= False]\n",
        "\n",
        "Looking at the results above it can be said that the pixel values in the blue channels would be very small compared to red channel. True/False?\n",
        "\n",
        "\n",
        "---\n",
        "\n",
        "\n"
      ]
    },
    {
      "cell_type": "markdown",
      "metadata": {
        "id": "b3ugFd57zNwa",
        "colab_type": "text"
      },
      "source": [
        "# Autograd\n",
        "\n",
        "Pytorch supports automatic differentiation. The module which implements this is called **AutoGrad**. It calculates the gradients and keeps track in forward and backward passes. For primitive tensors, you need to enable or disable it using the `required_grad` flag. But, for advanced tensors, it is enabled by default"
      ]
    },
    {
      "cell_type": "code",
      "metadata": {
        "id": "VMOp4aiou6JR",
        "colab_type": "code",
        "colab": {
          "base_uri": "https://localhost:8080/",
          "height": 203
        },
        "outputId": "572a7378-8ca1-406d-daf1-7d70baf4e3cb"
      },
      "source": [
        "a = torch.rand((3, 5), requires_grad = True)\n",
        "print(a)\n",
        "result = a * 5\n",
        "print(result)\n",
        "\n",
        "# grad can be implicitly created only for scalar outputs\n",
        "# so let's calculate the sum here so that the output becomes a scalar and we can apply a backward pass\n",
        "mean_result = result.sum()\n",
        "print(mean_result)\n",
        "# calculate gradient\n",
        "mean_result.backward()\n",
        "# print gradient of a\n",
        "print(a.grad)"
      ],
      "execution_count": 65,
      "outputs": [
        {
          "output_type": "stream",
          "text": [
            "tensor([[0.0494, 0.4247, 0.9730, 0.5724, 0.8761],\n",
            "        [0.8225, 0.4172, 0.0050, 0.4414, 0.2413],\n",
            "        [0.1913, 0.4770, 0.6272, 0.2732, 0.8437]], requires_grad=True)\n",
            "tensor([[0.2469, 2.1237, 4.8648, 2.8621, 4.3803],\n",
            "        [4.1123, 2.0858, 0.0251, 2.2068, 1.2067],\n",
            "        [0.9563, 2.3851, 3.1359, 1.3660, 4.2185]], grad_fn=<MulBackward0>)\n",
            "tensor(36.1763, grad_fn=<SumBackward0>)\n",
            "tensor([[5., 5., 5., 5., 5.],\n",
            "        [5., 5., 5., 5., 5.],\n",
            "        [5., 5., 5., 5., 5.]])\n"
          ],
          "name": "stdout"
        }
      ]
    },
    {
      "cell_type": "markdown",
      "metadata": {
        "id": "ym0Amk2IGfLx",
        "colab_type": "text"
      },
      "source": [
        "\n",
        "\n",
        "---\n",
        "\n",
        "## Question 11: \n",
        "\n",
        "Why the gradient of a is all 5s above?\n",
        "\n",
        "## Answer - a is constant/defined kernel. only mathematica operation is a*5; if we differentiate the value is 5 (df/da). so it validates\n",
        "---\n",
        "\n"
      ]
    },
    {
      "cell_type": "markdown",
      "metadata": {
        "id": "7PDgGq2R0k7I",
        "colab_type": "text"
      },
      "source": [
        "As we see, Pytorch automagically calculated the gradient value for us. It looks to be the correct value - we multiplied an input by 5, so the gradient of this operation equals to 5.\n",
        "\n",
        "# Disabling Autograd for tensors\n",
        "\n",
        "We don't need to compute gradients for all the variables that are involved in the pipeline. The Pytorch API provides 2 ways to disable autograd.\n",
        "\n",
        "`detach` - returns a copy of the tensor with autograd disabled. This \n",
        "\n",
        "1.   copy is built on the same memory as the original tensor, so in-place size / stride / storage changes (such as resize_ / resizeas / set / transpose) modifications are not allowed.\n",
        "2.   torch.no_grad() - It is a context manager that allows you to guard a series of operations from autograd without creating new tensors."
      ]
    },
    {
      "cell_type": "code",
      "metadata": {
        "id": "yqVG9fQb0cLW",
        "colab_type": "code",
        "colab": {
          "base_uri": "https://localhost:8080/",
          "height": 73
        },
        "outputId": "cb24e649-78a3-4961-db50-c4d1d84f37cf"
      },
      "source": [
        "a = torch.rand((3, 5), requires_grad=True)\n",
        "detached_a = a.detach()\n",
        "detached_result = detached_a * 5\n",
        "result = a * 10\n",
        "# we cannot do backward pass that is required for autograd using multideminsional output,\n",
        "# so let's calculate the sum here\n",
        "mean_result = result.sum()\n",
        "mean_result.backward()\n",
        "a.grad"
      ],
      "execution_count": 66,
      "outputs": [
        {
          "output_type": "execute_result",
          "data": {
            "text/plain": [
              "tensor([[10., 10., 10., 10., 10.],\n",
              "        [10., 10., 10., 10., 10.],\n",
              "        [10., 10., 10., 10., 10.]])"
            ]
          },
          "metadata": {
            "tags": []
          },
          "execution_count": 66
        }
      ]
    },
    {
      "cell_type": "code",
      "metadata": {
        "id": "uqpch2Be02J7",
        "colab_type": "code",
        "colab": {
          "base_uri": "https://localhost:8080/",
          "height": 73
        },
        "outputId": "21073ab6-2488-4b7b-f733-9d00e0006306"
      },
      "source": [
        "a = torch.rand((3, 5), requires_grad=True)\n",
        "with torch.no_grad():\n",
        "    detached_result = a * 5\n",
        "result = a * 10\n",
        "# we cannot do backward pass that is required for autograd using multideminsional output,\n",
        "# so let's calculate the sum here\n",
        "mean_result = result.sum()\n",
        "mean_result.backward()\n",
        "a.grad"
      ],
      "execution_count": 67,
      "outputs": [
        {
          "output_type": "execute_result",
          "data": {
            "text/plain": [
              "tensor([[10., 10., 10., 10., 10.],\n",
              "        [10., 10., 10., 10., 10.],\n",
              "        [10., 10., 10., 10., 10.]])"
            ]
          },
          "metadata": {
            "tags": []
          },
          "execution_count": 67
        }
      ]
    },
    {
      "cell_type": "markdown",
      "metadata": {
        "id": "vjh2rYOPJUAZ",
        "colab_type": "text"
      },
      "source": [
        "# Custom Network\n",
        "\n",
        "A fully-connected ReLU network with one hidden layer and no biases, trained to predict y from x by minimizing squared Euclidean distance.\n",
        "\n",
        "This implementation uses PyTorch tensors to manually compute the forward pass, loss, and backward pass.\n",
        "\n",
        "A PyTorch Tensor is basically the same as a numpy array: it does not know anything about deep learning or computational graphs or gradients, and is just a generic n-dimensional array to be used for arbitrary numeric computation.\n",
        "\n",
        "The biggest difference between a numpy array and a PyTorch Tensor is that a PyTorch Tensor can run on either CPU or GPU. To run operations on the GPU, just cast the Tensor to a cuda datatype."
      ]
    },
    {
      "cell_type": "code",
      "metadata": {
        "id": "0nf5RaB104Vp",
        "colab_type": "code",
        "colab": {}
      },
      "source": [
        "dtype = torch.float\n",
        "# device = torch.device(\"cpu\")\n",
        "device = torch.device(\"cuda:0\") # Uncomment this to run on GPU\n",
        "\n",
        "# N is batch size; D_in is input dimension;\n",
        "# H is hidden dimension; D_out is output dimension.\n",
        "N, D_in, H, D_out = 64, 1000, 100, 10\n",
        "\n",
        "# Create random input and output data\n",
        "x = torch.randn(N, D_in, device=device, dtype=dtype) # random input\n",
        "y = torch.randn(N, D_out, device=device, dtype=dtype) # random output\n",
        "\n",
        "# Randomly initialize weights\n",
        "w1 = torch.randn(D_in, H, device=device, dtype=dtype) \n",
        "w2 = torch.randn(H, D_out, device=device, dtype=dtype)\n",
        "\n",
        "# learning_rate = 1e-6\n",
        "# for t in range(500): # number of epochs\n",
        "#     # Forward pass: compute predicted y\n",
        "#     h = x.mm(w1) \n",
        "#     h_relu = h.clamp(min=0)\n",
        "#     y_pred = h_relu.mm(w2)\n",
        "\n",
        "#     # Compute and print loss\n",
        "#     loss = (y_pred - y).pow(2).sum().item()\n",
        "#     print(t, loss)\n",
        "\n",
        "#     # Backprop to compute gradients of w1 and w2 with respect to loss\n",
        "#     grad_y_pred = 2*(y_pred - y)\n",
        "#     grad_w2 = h_relu.t().mm(grad_y_pred)\n",
        "#     grad_h_relu = grad_y_pred.mm(w2.t())\n",
        "#     grad_h = grad_h_relu.clone()\n",
        "#     grad_h[h < 0] = 0 # applying relu for backpropagation or pass only where gradient indices whose value is >0\n",
        "#     grad_w1 = x.t().mm(grad_h)\n",
        "\n",
        "#     # Update weights using gradient descent\n",
        "#     w1 -= learning_rate * grad_w1\n",
        "#     w2 -= learning_rate * grad_w2"
      ],
      "execution_count": 68,
      "outputs": []
    },
    {
      "cell_type": "code",
      "metadata": {
        "id": "pPeLiKf3U0TI",
        "colab_type": "code",
        "colab": {
          "base_uri": "https://localhost:8080/",
          "height": 1000
        },
        "outputId": "96732129-d16a-4ebc-a4a3-2a21d3c85d1d"
      },
      "source": [
        "learning_rate = 1e-6\n",
        "for t in range(500): # number of epochs\n",
        "    # Forward pass: compute predicted y\n",
        "    h = x.mm(w1) \n",
        "    h_relu = h.clamp(min=0)\n",
        "    y_pred = h_relu.mm(w2)\n",
        "\n",
        "    # Compute and print loss\n",
        "    loss = (y_pred - y).pow(2).sum().item()\n",
        "    print(t, loss)\n",
        "\n",
        "    # Backprop to compute gradients of w1 and w2 with respect to loss\n",
        "    grad_y_pred = 2*(y_pred - y)\n",
        "    grad_w2 = h_relu.t().mm(grad_y_pred)\n",
        "    grad_h_relu = grad_y_pred.mm(w2.t())\n",
        "    #grad_h = grad_h_relu.clone()\n",
        "    grad_h[h < 0] = 0 # applying relu for backpropagation or pass only where gradient indices whose value is >0\n",
        "    grad_w1 = x.t().mm(grad_h)\n",
        "\n",
        "    # Update weights using gradient descent\n",
        "    w1 -= learning_rate * grad_w1\n",
        "    w2 -= learning_rate * grad_w2"
      ],
      "execution_count": 71,
      "outputs": [
        {
          "output_type": "stream",
          "text": [
            "0 0.000616937002632767\n",
            "1 0.0006190013373270631\n",
            "2 0.0006209500133991241\n",
            "3 0.0006235141772776842\n",
            "4 0.0006246351986192167\n",
            "5 0.0006271955789998174\n",
            "6 0.0006287745200097561\n",
            "7 0.0006316588842310011\n",
            "8 0.0006327669834718108\n",
            "9 0.0006345798028632998\n",
            "10 0.000636803510133177\n",
            "11 0.0006391787901520729\n",
            "12 0.0006410005735233426\n",
            "13 0.0006434581009671092\n",
            "14 0.0006449294742196798\n",
            "15 0.0006474159308709204\n",
            "16 0.000649079738650471\n",
            "17 0.0006510819657705724\n",
            "18 0.0006529537495225668\n",
            "19 0.0006544186035171151\n",
            "20 0.0006566551746800542\n",
            "21 0.0006586502422578633\n",
            "22 0.0006605337257497013\n",
            "23 0.0006619849009439349\n",
            "24 0.000663912738673389\n",
            "25 0.0006657749181613326\n",
            "26 0.0006674131727777421\n",
            "27 0.0006686641136184335\n",
            "28 0.0006708460277877748\n",
            "29 0.0006726313149556518\n",
            "30 0.0006757988012395799\n",
            "31 0.0006780126132071018\n",
            "32 0.0006795572116971016\n",
            "33 0.0006816461682319641\n",
            "34 0.0006833572406321764\n",
            "35 0.0006862114532850683\n",
            "36 0.000688295578584075\n",
            "37 0.0006902507157064974\n",
            "38 0.0006907357019372284\n",
            "39 0.0006935517303645611\n",
            "40 0.0006949765374884009\n",
            "41 0.0006967767840251327\n",
            "42 0.0006977040320634842\n",
            "43 0.0007010485860519111\n",
            "44 0.0007027847459539771\n",
            "45 0.0007044587982818484\n",
            "46 0.0007063185330480337\n",
            "47 0.0007081262301653624\n",
            "48 0.0007105436525307596\n",
            "49 0.0007122308015823364\n",
            "50 0.0007131090969778597\n",
            "51 0.0007150563760660589\n",
            "52 0.0007166193099692464\n",
            "53 0.0007192654884420335\n",
            "54 0.000721874472219497\n",
            "55 0.0007230676128529012\n",
            "56 0.0007249979535117745\n",
            "57 0.0007265487220138311\n",
            "58 0.0007300055585801601\n",
            "59 0.0007312388042919338\n",
            "60 0.0007319999858736992\n",
            "61 0.0007341198506765068\n",
            "62 0.0007355532143265009\n",
            "63 0.0007377620786428452\n",
            "64 0.0007405614014714956\n",
            "65 0.0007422331254929304\n",
            "66 0.0007450454868376255\n",
            "67 0.0007466370589099824\n",
            "68 0.0007490722346119583\n",
            "69 0.0007506607798859477\n",
            "70 0.0007522847736254334\n",
            "71 0.0007530890870839357\n",
            "72 0.000755033572204411\n",
            "73 0.0007573559414595366\n",
            "74 0.0007592701585963368\n",
            "75 0.0007611711625941098\n",
            "76 0.0007636240334250033\n",
            "77 0.0007645146106369793\n",
            "78 0.0007667219033464789\n",
            "79 0.0007692278595641255\n",
            "80 0.0007711241487413645\n",
            "81 0.0007726602489128709\n",
            "82 0.0007736689294688404\n",
            "83 0.0007756213890388608\n",
            "84 0.0007764901965856552\n",
            "85 0.0007790511008352041\n",
            "86 0.0007809005910530686\n",
            "87 0.0007826928049325943\n",
            "88 0.0007845929940231144\n",
            "89 0.0007859502802602947\n",
            "90 0.0007894076989032328\n",
            "91 0.0007911290158517659\n",
            "92 0.0007927593542262912\n",
            "93 0.0007954761385917664\n",
            "94 0.0007965429686009884\n",
            "95 0.0007973143365234137\n",
            "96 0.0007996447384357452\n",
            "97 0.0008022504625841975\n",
            "98 0.0008035411592572927\n",
            "99 0.0008043960551731288\n",
            "100 0.0008071262273006141\n",
            "101 0.0008086591260507703\n",
            "102 0.0008101944695226848\n",
            "103 0.0008126674219965935\n",
            "104 0.0008137152763083577\n",
            "105 0.0008164732716977596\n",
            "106 0.0008185068145394325\n",
            "107 0.0008199556032195687\n",
            "108 0.0008215542184188962\n",
            "109 0.0008238933514803648\n",
            "110 0.000825228460598737\n",
            "111 0.0008265232318080962\n",
            "112 0.0008284571813419461\n",
            "113 0.0008295017760246992\n",
            "114 0.0008303823415189981\n",
            "115 0.0008325426606461406\n",
            "116 0.0008350104326382279\n",
            "117 0.0008365639951080084\n",
            "118 0.0008377198246307671\n",
            "119 0.0008405448752455413\n",
            "120 0.0008421845268458128\n",
            "121 0.0008432434406131506\n",
            "122 0.0008459837408736348\n",
            "123 0.0008471665205433965\n",
            "124 0.0008488725288771093\n",
            "125 0.0008504420984536409\n",
            "126 0.0008517758687958121\n",
            "127 0.0008551479550078511\n",
            "128 0.0008564998861402273\n",
            "129 0.0008575766696594656\n",
            "130 0.0008594859391450882\n",
            "131 0.000861273379996419\n",
            "132 0.0008638082654215395\n",
            "133 0.0008644392946735024\n",
            "134 0.0008674636483192444\n",
            "135 0.0008685908978804946\n",
            "136 0.0008700340986251831\n",
            "137 0.000871875963639468\n",
            "138 0.0008736230665817857\n",
            "139 0.0008755465969443321\n",
            "140 0.0008767885155975819\n",
            "141 0.0008795986068435013\n",
            "142 0.000881137209944427\n",
            "143 0.0008830669685266912\n",
            "144 0.0008834743639454246\n",
            "145 0.0008851194870658219\n",
            "146 0.0008867608266882598\n",
            "147 0.0008889895980246365\n",
            "148 0.0008907372830435634\n",
            "149 0.0008922361885197461\n",
            "150 0.0008941670530475676\n",
            "151 0.000896489480510354\n",
            "152 0.0008976180688478053\n",
            "153 0.0008980000857263803\n",
            "154 0.0008997095283120871\n",
            "155 0.0009023594902828336\n",
            "156 0.0009036665433086455\n",
            "157 0.0009067011997103691\n",
            "158 0.0009071588283404708\n",
            "159 0.0009079976007342339\n",
            "160 0.0009100259048864245\n",
            "161 0.0009128942620009184\n",
            "162 0.0009146808879449964\n",
            "163 0.0009160151239484549\n",
            "164 0.0009178114123642445\n",
            "165 0.00091978395357728\n",
            "166 0.0009211197029799223\n",
            "167 0.0009223116212524474\n",
            "168 0.0009230863652192056\n",
            "169 0.0009262239327654243\n",
            "170 0.0009270111913792789\n",
            "171 0.0009296119678765535\n",
            "172 0.0009317782241851091\n",
            "173 0.0009329385356977582\n",
            "174 0.0009341389522887766\n",
            "175 0.0009360891999676824\n",
            "176 0.0009369967738166451\n",
            "177 0.0009399926057085395\n",
            "178 0.0009416299872100353\n",
            "179 0.0009432234801352024\n",
            "180 0.0009456048719584942\n",
            "181 0.0009467713534832001\n",
            "182 0.0009482650784775615\n",
            "183 0.0009490249212831259\n",
            "184 0.0009505742345936596\n",
            "185 0.0009530540555715561\n",
            "186 0.0009546315995976329\n",
            "187 0.0009557837620377541\n",
            "188 0.0009580649202689528\n",
            "189 0.000958920456469059\n",
            "190 0.0009610624983906746\n",
            "191 0.0009627854451537132\n",
            "192 0.0009649785934016109\n",
            "193 0.0009658781928010285\n",
            "194 0.0009673379827290773\n",
            "195 0.0009690891019999981\n",
            "196 0.0009705639677122235\n",
            "197 0.000973289948888123\n",
            "198 0.0009728457662276924\n",
            "199 0.0009763421840034425\n",
            "200 0.0009768829913809896\n",
            "201 0.0009782392298802733\n",
            "202 0.0009799704421311617\n",
            "203 0.0009825255256146193\n",
            "204 0.0009842690778896213\n",
            "205 0.0009850962087512016\n",
            "206 0.0009865642059594393\n",
            "207 0.000988359795883298\n",
            "208 0.0009897067211568356\n",
            "209 0.0009910303633660078\n",
            "210 0.0009919587755575776\n",
            "211 0.0009941281750798225\n",
            "212 0.0009955569403246045\n",
            "213 0.0009981764014810324\n",
            "214 0.0009998708264902234\n",
            "215 0.0010011220583692193\n",
            "216 0.0010029568802565336\n",
            "217 0.0010033186990767717\n",
            "218 0.0010045955423265696\n",
            "219 0.001006828504614532\n",
            "220 0.0010079392232000828\n",
            "221 0.0010096452897414565\n",
            "222 0.0010108605492860079\n",
            "223 0.0010116570629179478\n",
            "224 0.0010135057382285595\n",
            "225 0.0010161141399294138\n",
            "226 0.0010172759648412466\n",
            "227 0.0010203198762610555\n",
            "228 0.0010229942854493856\n",
            "229 0.0010242580901831388\n",
            "230 0.0010242094285786152\n",
            "231 0.0010254117660224438\n",
            "232 0.0010272469371557236\n",
            "233 0.0010277361143380404\n",
            "234 0.00103045254945755\n",
            "235 0.0010306225158274174\n",
            "236 0.0010341921588405967\n",
            "237 0.0010348422219976783\n",
            "238 0.0010378117440268397\n",
            "239 0.0010389529634267092\n",
            "240 0.0010396502912044525\n",
            "241 0.001042347983457148\n",
            "242 0.0010431057307869196\n",
            "243 0.0010451036505401134\n",
            "244 0.0010460888734087348\n",
            "245 0.0010474745649844408\n",
            "246 0.001049037091434002\n",
            "247 0.0010508906561881304\n",
            "248 0.0010518021881580353\n",
            "249 0.0010530762374401093\n",
            "250 0.001054904772900045\n",
            "251 0.0010569990845397115\n",
            "252 0.0010576137574389577\n",
            "253 0.0010596681386232376\n",
            "254 0.0010618373053148389\n",
            "255 0.0010629368480294943\n",
            "256 0.0010641691042110324\n",
            "257 0.0010648213792592287\n",
            "258 0.0010667513124644756\n",
            "259 0.0010689438786357641\n",
            "260 0.0010701920837163925\n",
            "261 0.0010713284136727452\n",
            "262 0.0010732420487329364\n",
            "263 0.0010746209882199764\n",
            "264 0.001075117033906281\n",
            "265 0.001077853376045823\n",
            "266 0.0010772126261144876\n",
            "267 0.0010794894769787788\n",
            "268 0.0010802315082401037\n",
            "269 0.0010819018352776766\n",
            "270 0.0010832580737769604\n",
            "271 0.0010850190883502364\n",
            "272 0.001086997683160007\n",
            "273 0.0010882689384743571\n",
            "274 0.0010900292545557022\n",
            "275 0.001091718440875411\n",
            "276 0.0010920623317360878\n",
            "277 0.0010943455854430795\n",
            "278 0.0010955081088468432\n",
            "279 0.0010974389733746648\n",
            "280 0.0010985728586092591\n",
            "281 0.0011008689180016518\n",
            "282 0.001101113623008132\n",
            "283 0.0011021888349205256\n",
            "284 0.0011035464704036713\n",
            "285 0.001105180592276156\n",
            "286 0.0011066789738833904\n",
            "287 0.0011094054207205772\n",
            "288 0.0011095572263002396\n",
            "289 0.001110657351091504\n",
            "290 0.00111214944627136\n",
            "291 0.0011134762316942215\n",
            "292 0.001115347957238555\n",
            "293 0.0011161783477291465\n",
            "294 0.001117203151807189\n",
            "295 0.0011196252889931202\n",
            "296 0.0011214357800781727\n",
            "297 0.0011217445135116577\n",
            "298 0.0011251320829614997\n",
            "299 0.0011254573473706841\n",
            "300 0.0011246611829847097\n",
            "301 0.0011269520036876202\n",
            "302 0.001128154108300805\n",
            "303 0.0011301677441224456\n",
            "304 0.0011326512321829796\n",
            "305 0.0011348918778821826\n",
            "306 0.0011375431204214692\n",
            "307 0.0011380373034626245\n",
            "308 0.0011394686298444867\n",
            "309 0.0011399114737287164\n",
            "310 0.0011423913529142737\n",
            "311 0.0011434121988713741\n",
            "312 0.0011456786887720227\n",
            "313 0.0011463139671832323\n",
            "314 0.0011471097823232412\n",
            "315 0.0011487837182357907\n",
            "316 0.0011496755760163069\n",
            "317 0.0011518188985064626\n",
            "318 0.0011518592946231365\n",
            "319 0.0011541496496647596\n",
            "320 0.0011547165922820568\n",
            "321 0.0011567403562366962\n",
            "322 0.001158713479526341\n",
            "323 0.0011591999791562557\n",
            "324 0.0011613040696829557\n",
            "325 0.0011626090854406357\n",
            "326 0.0011638374999165535\n",
            "327 0.001165898167528212\n",
            "328 0.0011677738511934876\n",
            "329 0.0011689434759318829\n",
            "330 0.0011688958620652556\n",
            "331 0.0011706987861543894\n",
            "332 0.0011724636424332857\n",
            "333 0.0011726542143151164\n",
            "334 0.0011735730804502964\n",
            "335 0.0011751723941415548\n",
            "336 0.0011765004601329565\n",
            "337 0.001177625497803092\n",
            "338 0.0011794595047831535\n",
            "339 0.0011795074678957462\n",
            "340 0.0011821091175079346\n",
            "341 0.001183285959996283\n",
            "342 0.001183395041152835\n",
            "343 0.0011851032031700015\n",
            "344 0.0011852108873426914\n",
            "345 0.0011869969312101603\n",
            "346 0.0011876639910042286\n",
            "347 0.0011904225684702396\n",
            "348 0.0011903652921319008\n",
            "349 0.001192795461975038\n",
            "350 0.0011942515848204494\n",
            "351 0.0011958706891164184\n",
            "352 0.0011970027117058635\n",
            "353 0.001198300626128912\n",
            "354 0.001199315651319921\n",
            "355 0.0012000654824078083\n",
            "356 0.001201707636937499\n",
            "357 0.0012031948426738381\n",
            "358 0.001205385196954012\n",
            "359 0.0012058177962899208\n",
            "360 0.0012081104796379805\n",
            "361 0.001209123758599162\n",
            "362 0.001210479997098446\n",
            "363 0.0012116252910345793\n",
            "364 0.001212168950587511\n",
            "365 0.0012145844521000981\n",
            "366 0.0012153268326073885\n",
            "367 0.0012171586276963353\n",
            "368 0.001217013574205339\n",
            "369 0.0012197373434901237\n",
            "370 0.0012204250087961555\n",
            "371 0.0012230155989527702\n",
            "372 0.001224979991093278\n",
            "373 0.0012236604234203696\n",
            "374 0.001226566731929779\n",
            "375 0.0012276872294023633\n",
            "376 0.0012280744267627597\n",
            "377 0.0012282229727134109\n",
            "378 0.0012296229833737016\n",
            "379 0.001230203197337687\n",
            "380 0.0012311439495533705\n",
            "381 0.0012340706307440996\n",
            "382 0.0012347028823569417\n",
            "383 0.0012376935919746757\n",
            "384 0.0012375910300761461\n",
            "385 0.0012382501736283302\n",
            "386 0.0012407929170876741\n",
            "387 0.0012410939671099186\n",
            "388 0.0012431215727701783\n",
            "389 0.001242582336999476\n",
            "390 0.001245315419510007\n",
            "391 0.001245696097612381\n",
            "392 0.0012472295202314854\n",
            "393 0.0012482937891036272\n",
            "394 0.0012497955467551947\n",
            "395 0.0012516024289652705\n",
            "396 0.0012500110315158963\n",
            "397 0.0012522536562755704\n",
            "398 0.0012536915019154549\n",
            "399 0.0012548608938232064\n",
            "400 0.0012565844226628542\n",
            "401 0.0012571377446874976\n",
            "402 0.0012596382293850183\n",
            "403 0.001261069905012846\n",
            "404 0.00126275687944144\n",
            "405 0.0012635563034564257\n",
            "406 0.0012655127793550491\n",
            "407 0.0012660552747547626\n",
            "408 0.0012674280442297459\n",
            "409 0.0012675670441240072\n",
            "410 0.0012694711331278086\n",
            "411 0.00126953748986125\n",
            "412 0.0012708595022559166\n",
            "413 0.0012728588189929724\n",
            "414 0.0012735333293676376\n",
            "415 0.0012737612705677748\n",
            "416 0.0012749680317938328\n",
            "417 0.001276447786949575\n",
            "418 0.0012767165899276733\n",
            "419 0.0012781238183379173\n",
            "420 0.0012794636422768235\n",
            "421 0.001280311495065689\n",
            "422 0.0012812569038942456\n",
            "423 0.0012819170951843262\n",
            "424 0.0012826677411794662\n",
            "425 0.001284607918933034\n",
            "426 0.0012874791864305735\n",
            "427 0.0012892935192212462\n",
            "428 0.0012892773374915123\n",
            "429 0.0012888368219137192\n",
            "430 0.001291590160690248\n",
            "431 0.0012920581502839923\n",
            "432 0.0012935708509758115\n",
            "433 0.0012952033430337906\n",
            "434 0.0012962850742042065\n",
            "435 0.001297396025620401\n",
            "436 0.0013016461161896586\n",
            "437 0.0013004246866330504\n",
            "438 0.001301550306379795\n",
            "439 0.00130139768589288\n",
            "440 0.001303566386923194\n",
            "441 0.0013050148263573647\n",
            "442 0.001306895981542766\n",
            "443 0.0013077226467430592\n",
            "444 0.001307845115661621\n",
            "445 0.0013080686330795288\n",
            "446 0.0013110204599797726\n",
            "447 0.001310315215960145\n",
            "448 0.0013136905618011951\n",
            "449 0.0013138999929651618\n",
            "450 0.0013139438815414906\n",
            "451 0.0013144626282155514\n",
            "452 0.0013158634537830949\n",
            "453 0.001315644127316773\n",
            "454 0.0013174049090594053\n",
            "455 0.0013182887341827154\n",
            "456 0.0013194066705182195\n",
            "457 0.001321858842857182\n",
            "458 0.0013230196200311184\n",
            "459 0.0013213908532634377\n",
            "460 0.001324808457866311\n",
            "461 0.0013265557354316115\n",
            "462 0.001325554447248578\n",
            "463 0.001328091137111187\n",
            "464 0.0013291878858581185\n",
            "465 0.00132886809296906\n",
            "466 0.0013319277204573154\n",
            "467 0.00133316102437675\n",
            "468 0.0013338306453078985\n",
            "469 0.0013343978207558393\n",
            "470 0.0013352276291698217\n",
            "471 0.001335314940661192\n",
            "472 0.001337328227236867\n",
            "473 0.0013390308013185859\n",
            "474 0.0013408097438514233\n",
            "475 0.001341971685178578\n",
            "476 0.0013424628414213657\n",
            "477 0.001343266572803259\n",
            "478 0.001343724550679326\n",
            "479 0.0013440920738503337\n",
            "480 0.0013446706579998136\n",
            "481 0.0013468875549733639\n",
            "482 0.0013487979304045439\n",
            "483 0.0013475269079208374\n",
            "484 0.001350168138742447\n",
            "485 0.0013503407826647162\n",
            "486 0.0013531586155295372\n",
            "487 0.0013535988982766867\n",
            "488 0.0013549607247114182\n",
            "489 0.0013550827279686928\n",
            "490 0.0013570351293310523\n",
            "491 0.0013570596929639578\n",
            "492 0.0013580962549895048\n",
            "493 0.0013600420206785202\n",
            "494 0.0013613420305773616\n",
            "495 0.0013621826656162739\n",
            "496 0.0013622422702610493\n",
            "497 0.0013637903612107038\n",
            "498 0.0013651499757543206\n",
            "499 0.001366957207210362\n",
            "500 0.0013682279968634248\n",
            "501 0.001369846286252141\n",
            "502 0.001369316247291863\n",
            "503 0.0013708306942135096\n",
            "504 0.0013715376844629645\n",
            "505 0.001371897291392088\n",
            "506 0.0013748808996751904\n",
            "507 0.0013735108077526093\n",
            "508 0.0013738684356212616\n",
            "509 0.001375629915855825\n",
            "510 0.0013764959294348955\n",
            "511 0.0013775459956377745\n",
            "512 0.0013793709222227335\n",
            "513 0.0013791476376354694\n",
            "514 0.001381830545142293\n",
            "515 0.0013838608283549547\n",
            "516 0.0013843211345374584\n",
            "517 0.0013849621172994375\n",
            "518 0.0013862433843314648\n",
            "519 0.0013877940364181995\n",
            "520 0.0013880797196179628\n",
            "521 0.0013898779870942235\n",
            "522 0.001390143414027989\n",
            "523 0.0013903469080105424\n",
            "524 0.001391447614878416\n",
            "525 0.001393065438605845\n",
            "526 0.0013924194499850273\n",
            "527 0.0013941337820142508\n",
            "528 0.0013943756930530071\n",
            "529 0.0013960396172478795\n",
            "530 0.001396198058500886\n",
            "531 0.0013974796747788787\n",
            "532 0.0013972517335787416\n",
            "533 0.0013982290402054787\n",
            "534 0.0014010416343808174\n",
            "535 0.0013993058819323778\n",
            "536 0.0014025704003870487\n",
            "537 0.0014023084659129381\n",
            "538 0.001404948765411973\n",
            "539 0.0014060840476304293\n",
            "540 0.0014053699560463428\n",
            "541 0.0014073920901864767\n",
            "542 0.0014082994312047958\n",
            "543 0.0014092887286096811\n",
            "544 0.0014095655642449856\n",
            "545 0.0014107050374150276\n",
            "546 0.0014107110910117626\n",
            "547 0.0014122296124696732\n",
            "548 0.001412778627127409\n",
            "549 0.0014135129749774933\n",
            "550 0.0014161167200654745\n",
            "551 0.0014164847088977695\n",
            "552 0.0014165439642965794\n",
            "553 0.0014166085748001933\n",
            "554 0.0014182660961523652\n",
            "555 0.0014184252358973026\n",
            "556 0.0014195670373737812\n",
            "557 0.00142113387119025\n",
            "558 0.0014231546083465219\n",
            "559 0.001423920039087534\n",
            "560 0.0014258588198572397\n",
            "561 0.0014248751103878021\n",
            "562 0.001427856390364468\n",
            "563 0.0014260943280532956\n",
            "564 0.0014278525486588478\n",
            "565 0.001429794356226921\n",
            "566 0.0014310957631096244\n",
            "567 0.0014322330243885517\n",
            "568 0.0014335312880575657\n",
            "569 0.0014326852979138494\n",
            "570 0.0014345941599458456\n",
            "571 0.0014350030105561018\n",
            "572 0.0014359427150338888\n",
            "573 0.0014366254908964038\n",
            "574 0.0014382255030795932\n",
            "575 0.0014400264481082559\n",
            "576 0.0014406119007617235\n",
            "577 0.0014401143416762352\n",
            "578 0.0014412786113098264\n",
            "579 0.0014419512590393424\n",
            "580 0.0014428739668801427\n",
            "581 0.001443224959075451\n",
            "582 0.0014442502288147807\n",
            "583 0.0014459677040576935\n",
            "584 0.0014471218455582857\n",
            "585 0.001448152121156454\n",
            "586 0.0014479280216619372\n",
            "587 0.0014480645768344402\n",
            "588 0.0014498875243589282\n",
            "589 0.0014504375867545605\n",
            "590 0.001451669493690133\n",
            "591 0.001452942844480276\n",
            "592 0.0014557050308212638\n",
            "593 0.0014540927950292826\n",
            "594 0.0014562958385795355\n",
            "595 0.001456789905205369\n",
            "596 0.001456921687349677\n",
            "597 0.0014565333258360624\n",
            "598 0.0014590155333280563\n",
            "599 0.0014582976000383496\n",
            "600 0.0014608646742999554\n",
            "601 0.0014627489726990461\n",
            "602 0.0014628670178353786\n",
            "603 0.0014625024050474167\n",
            "604 0.0014640577137470245\n",
            "605 0.0014638785505667329\n",
            "606 0.001464784611016512\n",
            "607 0.0014657865976914763\n",
            "608 0.0014659140724688768\n",
            "609 0.0014676859136670828\n",
            "610 0.0014681079192087054\n",
            "611 0.0014690801035612822\n",
            "612 0.0014699617167934775\n",
            "613 0.0014703127089887857\n",
            "614 0.0014709926908835769\n",
            "615 0.0014729611575603485\n",
            "616 0.0014721737243235111\n",
            "617 0.0014734399737790227\n",
            "618 0.0014749111142009497\n",
            "619 0.0014751447597518563\n",
            "620 0.0014768005348742008\n",
            "621 0.0014778319746255875\n",
            "622 0.0014776305761188269\n",
            "623 0.0014781018253415823\n",
            "624 0.0014809388667345047\n",
            "625 0.0014824075624346733\n",
            "626 0.001480626524426043\n",
            "627 0.0014819412026554346\n",
            "628 0.0014815159374848008\n",
            "629 0.0014854874461889267\n",
            "630 0.0014830881264060736\n",
            "631 0.0014862745301797986\n",
            "632 0.0014856074703857303\n",
            "633 0.0014882090035825968\n",
            "634 0.0014872591709718108\n",
            "635 0.0014890675665810704\n",
            "636 0.001489044283516705\n",
            "637 0.0014897400978952646\n",
            "638 0.0014915666542947292\n",
            "639 0.0014923865674063563\n",
            "640 0.001490868628025055\n",
            "641 0.0014924358110874891\n",
            "642 0.0014942993875592947\n",
            "643 0.0014954733196645975\n",
            "644 0.001496443641372025\n",
            "645 0.001498218858614564\n",
            "646 0.0014981463318690658\n",
            "647 0.0014980966225266457\n",
            "648 0.0014988629845902324\n",
            "649 0.001498476485721767\n",
            "650 0.0015006880275905132\n",
            "651 0.001501572784036398\n",
            "652 0.0015021997969597578\n",
            "653 0.0015024773310869932\n",
            "654 0.0015049471985548735\n",
            "655 0.0015047132037580013\n",
            "656 0.001505836728028953\n",
            "657 0.0015047003980726004\n",
            "658 0.0015055877156555653\n",
            "659 0.001507298438809812\n",
            "660 0.0015072189271450043\n",
            "661 0.0015072616515681148\n",
            "662 0.0015091204550117254\n",
            "663 0.0015101453755050898\n",
            "664 0.0015111910179257393\n",
            "665 0.001511652022600174\n",
            "666 0.0015139055904000998\n",
            "667 0.0015128760132938623\n",
            "668 0.0015150746330618858\n",
            "669 0.0015155411092564464\n",
            "670 0.0015161323826760054\n",
            "671 0.0015162797644734383\n",
            "672 0.0015164141077548265\n",
            "673 0.0015170671977102757\n",
            "674 0.0015187552198767662\n",
            "675 0.0015180687187239528\n",
            "676 0.001519734039902687\n",
            "677 0.0015206488315016031\n",
            "678 0.001520451856777072\n",
            "679 0.0015216293977573514\n",
            "680 0.0015231267316266894\n",
            "681 0.0015245508402585983\n",
            "682 0.0015244744718074799\n",
            "683 0.0015255676116794348\n",
            "684 0.0015265167457982898\n",
            "685 0.0015270709991455078\n",
            "686 0.0015278203645721078\n",
            "687 0.001527905697003007\n",
            "688 0.0015301150269806385\n",
            "689 0.0015322377439588308\n",
            "690 0.001531949732452631\n",
            "691 0.001531419693492353\n",
            "692 0.00153240782674402\n",
            "693 0.0015318256337195635\n",
            "694 0.0015335639473050833\n",
            "695 0.001534121809527278\n",
            "696 0.001535231014713645\n",
            "697 0.0015359169337898493\n",
            "698 0.0015360768884420395\n",
            "699 0.0015373120550066233\n",
            "700 0.0015379661926999688\n",
            "701 0.0015398480463773012\n",
            "702 0.00153921521268785\n",
            "703 0.0015389472246170044\n",
            "704 0.001541350269690156\n",
            "705 0.0015410470077767968\n",
            "706 0.0015422857832163572\n",
            "707 0.0015415374655276537\n",
            "708 0.0015435622772201896\n",
            "709 0.0015436058165505528\n",
            "710 0.0015454536769539118\n",
            "711 0.0015450719511136413\n",
            "712 0.0015477131819352508\n",
            "713 0.0015472769737243652\n",
            "714 0.0015498185530304909\n",
            "715 0.0015493652317672968\n",
            "716 0.0015500172739848495\n",
            "717 0.001550411689095199\n",
            "718 0.0015507707139477134\n",
            "719 0.0015515574486926198\n",
            "720 0.00155195954721421\n",
            "721 0.0015532290562987328\n",
            "722 0.0015541547909379005\n",
            "723 0.0015542351175099611\n",
            "724 0.0015542723704129457\n",
            "725 0.0015565764624625444\n",
            "726 0.0015582323540002108\n",
            "727 0.001556579489260912\n",
            "728 0.0015568210510537028\n",
            "729 0.0015578233869746327\n",
            "730 0.001556326518766582\n",
            "731 0.0015594589058309793\n",
            "732 0.0015602611238136888\n",
            "733 0.0015603112988173962\n",
            "734 0.0015604699729010463\n",
            "735 0.0015617822064086795\n",
            "736 0.0015635632444173098\n",
            "737 0.0015633401926606894\n",
            "738 0.0015638212207704782\n",
            "739 0.001564377686008811\n",
            "740 0.001564081059768796\n",
            "741 0.0015652996953576803\n",
            "742 0.0015669420827180147\n",
            "743 0.0015672966837882996\n",
            "744 0.0015680852811783552\n",
            "745 0.0015701472293585539\n",
            "746 0.0015695091569796205\n",
            "747 0.001571294735185802\n",
            "748 0.0015709882136434317\n",
            "749 0.0015736725181341171\n",
            "750 0.001572309760376811\n",
            "751 0.0015731421299278736\n",
            "752 0.0015730471350252628\n",
            "753 0.001575938775204122\n",
            "754 0.0015733474865555763\n",
            "755 0.0015763440169394016\n",
            "756 0.0015749736921861768\n",
            "757 0.0015748542500659823\n",
            "758 0.0015761444810777903\n",
            "759 0.0015779263339936733\n",
            "760 0.0015780339017510414\n",
            "761 0.001577479881234467\n",
            "762 0.0015785468276590109\n",
            "763 0.0015797943342477083\n",
            "764 0.0015806482406333089\n",
            "765 0.001581952441483736\n",
            "766 0.0015808308962732553\n",
            "767 0.0015805581351742148\n",
            "768 0.0015822402201592922\n",
            "769 0.0015838887775316834\n",
            "770 0.0015821510460227728\n",
            "771 0.0015841672429814935\n",
            "772 0.0015870094066485763\n",
            "773 0.0015855833189561963\n",
            "774 0.0015859962441027164\n",
            "775 0.0015870574861764908\n",
            "776 0.0015900301514193416\n",
            "777 0.0015890540089458227\n",
            "778 0.0015910009387880564\n",
            "779 0.001590148312970996\n",
            "780 0.0015907376073300838\n",
            "781 0.0015912855742499232\n",
            "782 0.0015940578887239099\n",
            "783 0.00159246358089149\n",
            "784 0.0015931295929476619\n",
            "785 0.0015943135367706418\n",
            "786 0.0015930960653349757\n",
            "787 0.0015943215694278479\n",
            "788 0.0015953539405018091\n",
            "789 0.001596285728737712\n",
            "790 0.0015968205407261848\n",
            "791 0.0015984191559255123\n",
            "792 0.0015988098457455635\n",
            "793 0.0015985241625458002\n",
            "794 0.0015988980885595083\n",
            "795 0.001598086324520409\n",
            "796 0.001600675517693162\n",
            "797 0.0016011698171496391\n",
            "798 0.001600257703103125\n",
            "799 0.001602009404450655\n",
            "800 0.0016016502631828189\n",
            "801 0.0016037451568990946\n",
            "802 0.001602314761839807\n",
            "803 0.001602976000867784\n",
            "804 0.0016034397995099425\n",
            "805 0.001603178447112441\n",
            "806 0.0016040332848206162\n",
            "807 0.0016049721743911505\n",
            "808 0.0016051540151238441\n",
            "809 0.0016061339993029833\n",
            "810 0.0016084795352071524\n",
            "811 0.0016088057309389114\n",
            "812 0.0016092415899038315\n",
            "813 0.0016092659207060933\n",
            "814 0.0016099960776045918\n",
            "815 0.0016112965531647205\n",
            "816 0.0016125940019264817\n",
            "817 0.0016136873746290803\n",
            "818 0.0016127402195706964\n",
            "819 0.0016148877330124378\n",
            "820 0.0016145015833899379\n",
            "821 0.0016119605861604214\n",
            "822 0.0016140101943165064\n",
            "823 0.0016148387221619487\n",
            "824 0.0016172669129446149\n",
            "825 0.0016165738925337791\n",
            "826 0.0016181516693904996\n",
            "827 0.0016190792666748166\n",
            "828 0.0016182562103495002\n",
            "829 0.0016188544686883688\n",
            "830 0.0016204833518713713\n",
            "831 0.0016199916135519743\n",
            "832 0.0016203699633479118\n",
            "833 0.0016199515666812658\n",
            "834 0.0016220170073211193\n",
            "835 0.0016223688144236803\n",
            "836 0.0016226628795266151\n",
            "837 0.001624263939447701\n",
            "838 0.0016247821040451527\n",
            "839 0.0016255246009677649\n",
            "840 0.0016249322798103094\n",
            "841 0.001627147663384676\n",
            "842 0.0016266804886981845\n",
            "843 0.0016275157686322927\n",
            "844 0.0016297866823151708\n",
            "845 0.0016295351088047028\n",
            "846 0.0016308145131915808\n",
            "847 0.001631265040487051\n",
            "848 0.0016305918106809258\n",
            "849 0.0016307253390550613\n",
            "850 0.0016308794729411602\n",
            "851 0.00163169763982296\n",
            "852 0.0016331118531525135\n",
            "853 0.0016324822790920734\n",
            "854 0.0016329411882907152\n",
            "855 0.0016353793907910585\n",
            "856 0.0016348148928955197\n",
            "857 0.0016351577360183\n",
            "858 0.0016366186318919063\n",
            "859 0.0016366519266739488\n",
            "860 0.0016372259706258774\n",
            "861 0.0016388047952204943\n",
            "862 0.0016391496174037457\n",
            "863 0.0016393421683460474\n",
            "864 0.00163917220197618\n",
            "865 0.001642680144868791\n",
            "866 0.0016392340185120702\n",
            "867 0.0016416565049439669\n",
            "868 0.0016411313554272056\n",
            "869 0.0016419750172644854\n",
            "870 0.001642686314880848\n",
            "871 0.001644419739022851\n",
            "872 0.0016427516238763928\n",
            "873 0.0016429717652499676\n",
            "874 0.0016447631642222404\n",
            "875 0.001645586802624166\n",
            "876 0.0016429100651293993\n",
            "877 0.001646659686230123\n",
            "878 0.0016460663173347712\n",
            "879 0.0016466397792100906\n",
            "880 0.0016482652863487601\n",
            "881 0.0016491925343871117\n",
            "882 0.001650006975978613\n",
            "883 0.0016499586636200547\n",
            "884 0.0016498781042173505\n",
            "885 0.0016507972031831741\n",
            "886 0.0016487714601680636\n",
            "887 0.0016506973188370466\n",
            "888 0.0016517729964107275\n",
            "889 0.0016523278318345547\n",
            "890 0.0016530270222574472\n",
            "891 0.0016537574119865894\n",
            "892 0.0016538703348487616\n",
            "893 0.0016531883738934994\n",
            "894 0.001653784653171897\n",
            "895 0.0016549821011722088\n",
            "896 0.0016553375171497464\n",
            "897 0.001657414250075817\n",
            "898 0.001656587002798915\n",
            "899 0.001656643464230001\n",
            "900 0.001657118322327733\n",
            "901 0.0016567014390602708\n",
            "902 0.0016573526663705707\n",
            "903 0.0016604026313871145\n",
            "904 0.0016618228983134031\n",
            "905 0.0016612277831882238\n",
            "906 0.0016606980934739113\n",
            "907 0.0016595973866060376\n",
            "908 0.00166060752235353\n",
            "909 0.001661957474425435\n",
            "910 0.0016631982289254665\n",
            "911 0.0016624948475509882\n",
            "912 0.0016625655116513371\n",
            "913 0.001663770992308855\n",
            "914 0.001665083458647132\n",
            "915 0.001663543633185327\n",
            "916 0.0016646689036861062\n",
            "917 0.0016659869579598308\n",
            "918 0.0016652073245495558\n",
            "919 0.0016636053333058953\n",
            "920 0.0016670508775860071\n",
            "921 0.001665506511926651\n",
            "922 0.001667862175963819\n",
            "923 0.001667739707045257\n",
            "924 0.0016688399482518435\n",
            "925 0.0016692103818058968\n",
            "926 0.0016689253970980644\n",
            "927 0.0016694790683686733\n",
            "928 0.0016699512489140034\n",
            "929 0.0016705862944945693\n",
            "930 0.0016711484640836716\n",
            "931 0.001671752892434597\n",
            "932 0.0016729712951928377\n",
            "933 0.0016731425421312451\n",
            "934 0.001672558137215674\n",
            "935 0.0016728610498830676\n",
            "936 0.0016711005009710789\n",
            "937 0.0016759351128712296\n",
            "938 0.0016750494251027703\n",
            "939 0.0016751280054450035\n",
            "940 0.0016749619971960783\n",
            "941 0.0016759645659476519\n",
            "942 0.0016762951854616404\n",
            "943 0.0016769851790741086\n",
            "944 0.0016765686450526118\n",
            "945 0.0016795818228274584\n",
            "946 0.0016799052245914936\n",
            "947 0.0016810622764751315\n",
            "948 0.0016808599466457963\n",
            "949 0.0016824206104502082\n",
            "950 0.0016813389956951141\n",
            "951 0.0016830386593937874\n",
            "952 0.0016833542613312602\n",
            "953 0.0016817804425954819\n",
            "954 0.001682253205217421\n",
            "955 0.0016843915218487382\n",
            "956 0.0016852564876899123\n",
            "957 0.0016852626577019691\n",
            "958 0.0016845192294567823\n",
            "959 0.0016842735931277275\n",
            "960 0.0016836748691275716\n",
            "961 0.001686983392573893\n",
            "962 0.001685560680925846\n",
            "963 0.0016872051637619734\n",
            "964 0.0016877843299880624\n",
            "965 0.0016878936439752579\n",
            "966 0.0016868391539901495\n",
            "967 0.0016894083237275481\n",
            "968 0.001687744166702032\n",
            "969 0.0016872173873707652\n",
            "970 0.0016890326514840126\n",
            "971 0.0016911557177081704\n",
            "972 0.0016894735163077712\n",
            "973 0.0016900046030059457\n",
            "974 0.0016913486178964376\n",
            "975 0.0016920422203838825\n",
            "976 0.0016922305803745985\n",
            "977 0.001693939440883696\n",
            "978 0.0016930931014940143\n",
            "979 0.0016937629552558064\n",
            "980 0.0016940184868872166\n",
            "981 0.0016940271016210318\n",
            "982 0.001695195329375565\n",
            "983 0.0016953605227172375\n",
            "984 0.0016960572684183717\n",
            "985 0.0016951767029240727\n",
            "986 0.0016950566787272692\n",
            "987 0.0016961725195869803\n",
            "988 0.0016971512231975794\n",
            "989 0.0016980342334136367\n",
            "990 0.001697576604783535\n",
            "991 0.001697709085419774\n",
            "992 0.001697016879916191\n",
            "993 0.001698697917163372\n",
            "994 0.0016994021134451032\n",
            "995 0.001699663233011961\n",
            "996 0.0016989900032058358\n",
            "997 0.0016995465848594904\n",
            "998 0.0017009981675073504\n",
            "999 0.0017026783898472786\n"
          ],
          "name": "stdout"
        }
      ]
    },
    {
      "cell_type": "code",
      "metadata": {
        "id": "mBFPoeB-U23O",
        "colab_type": "code",
        "colab": {}
      },
      "source": [
        ""
      ],
      "execution_count": null,
      "outputs": []
    },
    {
      "cell_type": "markdown",
      "metadata": {
        "id": "ycwxAPHZLNST",
        "colab_type": "text"
      },
      "source": [
        "\n",
        "\n",
        "---\n",
        "## Question 12 [Ans - derivative of loss fn Math.square(y_pred-y) which is applied\n",
        "\n",
        "In the code above, why do we have 2 in '2.0*(y_pred - y)`?\n",
        "\n",
        "## Question 13 [Ans - Relu or  ... For hidden layer's gradient computation we are only considering gradients for indices where estimated parameters are > 0]\n",
        "In the code above, what does `grad_h[h < 0] = 0` signify?\n",
        "\n",
        "## Question 14 [Ans - 500]\n",
        "In the code above, how many \"epochs\" have we trained the model for? \n",
        "\n",
        "## Question 15 [No, inputs are random and so the weights and finally model would be different]\n",
        "In the code above, if we take the trained model, and run it on fresh  inputs, the trained model will be able to predict fresh output with high accuracy. \n",
        "\n",
        "## Question 16 [Ans - will train but accuracy drops]\n",
        "In the code above, if we dont use clone in `grad_h = grad_h_relu.clone()` the model will still train without any issues. "
      ]
    },
    {
      "cell_type": "code",
      "metadata": {
        "id": "PnJ49I07JJI6",
        "colab_type": "code",
        "colab": {}
      },
      "source": [
        ""
      ],
      "execution_count": null,
      "outputs": []
    }
  ]
}